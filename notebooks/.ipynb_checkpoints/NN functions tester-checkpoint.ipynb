{
 "cells": [
  {
   "cell_type": "code",
   "execution_count": null,
   "metadata": {},
   "outputs": [],
   "source": [
    "import tensorflow as tf\n",
    "from pydst.rate_limiters import RateLimited \n",
    "from pydst.dataproviders import DataProvider\n",
    "from IPython.display import display, HTML\n",
    "import datetime\n",
    "import os\n",
    "import numpy as np\n",
    "def show_graph(graph_def, frame_size=(900, 600)):\n",
    "    \"\"\"Visualize TensorFlow graph.\"\"\"\n",
    "    if hasattr(graph_def, 'as_graph_def'):\n",
    "        graph_def = graph_def.as_graph_def()\n",
    "    timestamp = datetime.datetime.now().strftime(\"%Y-%m-%d_%H-%M-%S\")\n",
    "    code = \"\"\"\n",
    "        <script>\n",
    "          function load() {{\n",
    "            document.getElementById(\"{id}\").pbtxt = {data};\n",
    "          }}\n",
    "        </script>\n",
    "        <link rel=\"import\" href=\"https://tensorboard.appspot.com/tf-graph-basic.build.html\" onload=load()>\n",
    "        <div style=\"height:{height}px\">\n",
    "          <tf-graph-basic id=\"{id}\"></tf-graph-basic>\n",
    "        </div>\n",
    "    \"\"\".format(height=frame_size[1], data=repr(str(graph_def)), id='graph'+timestamp)\n",
    "    iframe = \"\"\"\n",
    "        <iframe seamless style=\"width:{width}px;height:{height}px;border:0\" srcdoc=\"{src}\"></iframe>\n",
    "    \"\"\".format(width=frame_size[0], height=frame_size[1] + 20, src=code.replace('\"', '&quot;'))\n",
    "    display(HTML(iframe))"
   ]
  },
  {
   "cell_type": "code",
   "execution_count": null,
   "metadata": {
    "collapsed": true
   },
   "outputs": [],
   "source": [
    "@RateLimited(1)\n",
    "def eval_tensor(sess, inputs, targets):\n",
    "    [b,t] = sess.run([inputs, targets])\n",
    "    print(b)\n",
    "    "
   ]
  },
  {
   "cell_type": "code",
   "execution_count": null,
   "metadata": {
    "collapsed": true
   },
   "outputs": [],
   "source": [
    "def bgraph_t1(which_set, rng=None):\n",
    "    \n",
    "    graph = tf.Graph()\n",
    "    outputs = {}\n",
    "    errors = {}\n",
    "\n",
    "    timestamp = datetime.datetime.now().strftime(\"%Y-%m-%d_%H-%M-%S\")\n",
    "    #train_writer = tf.summary.FileWriter(os.path.join('tf-log', timestamp, 'train'), graph=graph)\n",
    "    #valid_writer = tf.summary.FileWriter(os.path.join('tf-log', timestamp, 'valid'), graph=graph)\n",
    "    \n",
    "    with graph.as_default():\n",
    "\n",
    "        with tf.device('/cpu:0'):\n",
    "            dataprovider = DataProvider(graph=graph, which_set=which_set, batch_size=10, down_sample=1, target_size=6,rng=rng)\n",
    "            inputs, targets = dataprovider.get_data()\n",
    "\n",
    "        name = 'layer-1'\n",
    "        with tf.variable_scope(name):\n",
    "            outputs[name] = tf.layers.dense(inputs=inputs, units=100, name=name, activation=tf.nn.relu)\n",
    "\n",
    "        name = 'layer-2'\n",
    "        with tf.variable_scope(name):\n",
    "            outputs[name] = tf.layers.dense(inputs=outputs['layer-1'], units=6, name=name, activation=tf.nn.relu)\n",
    "\n",
    "        name = 'layer-3'\n",
    "        with tf.variable_scope(name):\n",
    "            outputs[name] = tf.layers.dense(inputs=outputs['layer-2'], units=6, name=name, activation=tf.nn.relu)\n",
    "\n",
    "        name = 'layer-4'\n",
    "        with tf.variable_scope(name):\n",
    "            outputs[name] = tf.layers.dense(inputs=outputs['layer-3'], units=6, name=name, activation=tf.nn.relu)\n",
    "\n",
    "        name = 'error-l4'\n",
    "        with tf.variable_scope(name):\n",
    "            errors[name] = tf.losses.softmax_cross_entropy(onehot_labels=targets, logits=outputs['layer-4'])\n",
    "\n",
    "        name = 'error-l2'\n",
    "        with tf.variable_scope(name):\n",
    "            errors[name] = tf.losses.softmax_cross_entropy(onehot_labels=targets, logits=outputs['layer-2'])\n",
    "        train_step = tf.train.AdamOptimizer().minimize(errors['error-l4'])\n",
    "\n",
    "        tf.summary.scalar('error-l2', errors['error-l2'])\n",
    "        tf.summary.scalar('error-l4', errors['error-l4'])\n",
    "        summary_op = tf.summary.merge_all()\n",
    "        saver = tf.train.Saver()\n",
    "        \n",
    "        sess = tf.Session(config=tf.ConfigProto(intra_op_parallelism_threads=8))\n",
    "        \n",
    "    return sess, graph, summary_op, train_step, dataprovider, saver, inputs, targets\n"
   ]
  },
  {
   "cell_type": "code",
   "execution_count": null,
   "metadata": {
    "collapsed": true
   },
   "outputs": [],
   "source": [
    "with tf.variable_scope(\"model_t1\") as scope:\n",
    "    [train_sess, train_graph, train_summary, train_step, trainData, trainSaver, \n",
    "                                                                tinputs, ttargets] = bgraph_t1('train')\n",
    "    \n",
    "    scope.reuse_variables()\n",
    "    rng = np.random.RandomState(15679832)\n",
    "    [valid_sess, valid_graph, valid_summary, _, validData, validSaver, \n",
    "                                                             vinputs, vtargets] = bgraph_t1('valid', rng)"
   ]
  },
  {
   "cell_type": "code",
   "execution_count": null,
   "metadata": {},
   "outputs": [],
   "source": [
    "with train_graph.as_default():\n",
    "    \n",
    "    train_sess.run(tf.global_variables_initializer())\n",
    "    trainData.enable(train_sess)\n",
    "    \n",
    "    for num in range(1):\n",
    "        eval_tensor(train_sess, tinputs, ttargets)\n",
    "    trainData.disable(train_sess)\n",
    "    #saver.export_meta_graph('graph_model.meta')\n",
    "    #saver.save(train_sess, 'my-model')"
   ]
  },
  {
   "cell_type": "code",
   "execution_count": null,
   "metadata": {},
   "outputs": [],
   "source": [
    "with valid_graph.as_default():\n",
    "    \n",
    "    valid_sess.run(tf.global_variables_initializer())\n",
    "    validData.enable(valid_sess)\n",
    "    \n",
    "    for num in range(1):\n",
    "        eval_tensor(valid_sess, vinputs, vtargets)\n",
    "    validData.disable(valid_sess)\n",
    "    #saver.export_meta_graph('graph_model.meta')\n",
    "    #saver.save(valid_sess, 'my-model')"
   ]
  },
  {
   "cell_type": "code",
   "execution_count": null,
   "metadata": {},
   "outputs": [],
   "source": [
    "show_graph(train_graph)\n",
    "show_graph(valid_graph)"
   ]
  },
  {
   "cell_type": "code",
   "execution_count": null,
   "metadata": {
    "collapsed": true
   },
   "outputs": [],
   "source": []
  }
 ],
 "metadata": {
  "celltoolbar": "Initialization Cell",
  "kernelspec": {
   "display_name": "Python 3",
   "language": "python",
   "name": "python3"
  },
  "language_info": {
   "codemirror_mode": {
    "name": "ipython",
    "version": 3
   },
   "file_extension": ".py",
   "mimetype": "text/x-python",
   "name": "python",
   "nbconvert_exporter": "python",
   "pygments_lexer": "ipython3",
   "version": "3.5.3"
  }
 },
 "nbformat": 4,
 "nbformat_minor": 2
}
