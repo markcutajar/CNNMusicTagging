{
 "cells": [
  {
   "cell_type": "markdown",
   "metadata": {},
   "source": [
    "### Dense Networks Experiments\n",
    "\n",
    "This first notebook is to explore the effectiveness of a fully connected neural network to classify tags. The testing will be as follows:\n",
    "\n",
    "1. Test data which has been subsampled \n"
   ]
  },
  {
   "cell_type": "code",
   "execution_count": 1,
   "metadata": {
    "collapsed": true,
    "init_cell": true
   },
   "outputs": [],
   "source": [
    "import tensorflow as tf\n",
    "from pydst.rate_limiters import RateLimited \n",
    "from pydst.dataproviders import DataProvider\n",
    "from IPython.display import display, HTML\n",
    "import datetime\n",
    "import os\n",
    "import numpy as np"
   ]
  },
  {
   "cell_type": "code",
   "execution_count": 2,
   "metadata": {
    "code_folding": [
     0
    ],
    "collapsed": true,
    "init_cell": true
   },
   "outputs": [],
   "source": [
    "def show_graph(graph_def, frame_size=(900, 600)):\n",
    "    \"\"\"Visualize TensorFlow graph.\"\"\"\n",
    "    if hasattr(graph_def, 'as_graph_def'):\n",
    "        graph_def = graph_def.as_graph_def()\n",
    "    timestamp = datetime.datetime.now().strftime(\"%Y-%m-%d_%H-%M-%S\")\n",
    "    code = \"\"\"\n",
    "        <script>\n",
    "          function load() {{\n",
    "            document.getElementById(\"{id}\").pbtxt = {data};\n",
    "          }}\n",
    "        </script>\n",
    "        <link rel=\"import\" href=\"https://tensorboard.appspot.com/tf-graph-basic.build.html\" onload=load()>\n",
    "        <div style=\"height:{height}px\">\n",
    "          <tf-graph-basic id=\"{id}\"></tf-graph-basic>\n",
    "        </div>\n",
    "    \"\"\".format(height=frame_size[1], data=repr(str(graph_def)), id='graph'+timestamp)\n",
    "    iframe = \"\"\"\n",
    "        <iframe seamless style=\"width:{width}px;height:{height}px;border:0\" srcdoc=\"{src}\"></iframe>\n",
    "    \"\"\".format(width=frame_size[0], height=frame_size[1] + 20, src=code.replace('\"', '&quot;'))\n",
    "    display(HTML(iframe))"
   ]
  },
  {
   "cell_type": "code",
   "execution_count": 3,
   "metadata": {
    "code_folding": [],
    "collapsed": true,
    "init_cell": true
   },
   "outputs": [],
   "source": [
    "def dense(name, inputs, units, fn):\n",
    "    with tf.variable_scope(name):\n",
    "        print(inputs.shape[1])\n",
    "        output = tf.layers.dense(inputs=inputs, units=units, name=name, activation=fn, \n",
    "                                 kernel_initializer=None) #tf.truncated_normal_initializer())\n",
    "        return output\n",
    "#(stddev=(2./(inputs.shape[1]+units))**0.5)\n",
    "\n",
    "def mlp_graph(which_set, rng=None):\n",
    "    \n",
    "    graph = tf.Graph()\n",
    "    outputs = {}\n",
    "    errors = {}\n",
    "    accs = {}\n",
    "    \n",
    "    with graph.as_default():\n",
    "\n",
    "        with tf.device('/cpu:0'):\n",
    "            dataprovider = DataProvider(graph=graph, which_set=which_set, batch_size=10, \n",
    "                                        down_sample=20, target_size=4,rng=rng)\n",
    "                                 \n",
    "            inputs, targets = dataprovider.get_data()\n",
    "            \n",
    "        with tf.device('/cpu:0'):\n",
    "            name = 'layer-1'\n",
    "            outputs[name] = dense(name, inputs, 10000, tf.nn.relu)                                            \n",
    "\n",
    "            name = 'layer-2'\n",
    "            outputs[name] = dense(name, outputs['layer-1'], 6000, tf.nn.relu)\n",
    "\n",
    "            name = 'layer-3'\n",
    "            outputs[name] = dense(name, outputs['layer-2'], 3000, tf.nn.relu)\n",
    "\n",
    "            name = 'layer-4'\n",
    "            outputs[name] = dense(name, outputs['layer-3'], 2000, tf.nn.relu)\n",
    "\n",
    "            name = 'layer-5'\n",
    "            outputs[name] = dense(name, outputs['layer-4'], 500, tf.nn.relu)\n",
    "\n",
    "            name = 'layer-6'\n",
    "            outputs[name] = dense(name, outputs['layer-5'], 100, tf.nn.relu)\n",
    "\n",
    "            name = 'layer-7'\n",
    "            outputs[name] = dense(name, outputs['layer-6'], 50, tf.nn.relu)\n",
    "\n",
    "            name = 'layer-8'\n",
    "            outputs[name] = dense(name, outputs['layer-7'], 10, tf.nn.relu)\n",
    "\n",
    "            name = 'layer-9'\n",
    "            outputs[name] = dense(name, outputs['layer-8'], 4, tf.nn.relu)\n",
    "\n",
    "        last_output = outputs['layer-9']\n",
    "        name = 'error-l9'\n",
    "        with tf.variable_scope(name):\n",
    "            errors[name] = tf.losses.sigmoid_cross_entropy(multi_class_labels=targets, logits=last_output)\n",
    "        tf.summary.scalar(name, errors[name])\n",
    "        train_step = tf.train.AdamOptimizer().minimize(errors[name])\n",
    "        \n",
    "        name = 'accuracy-l9'\n",
    "        with tf.variable_scope(name):\n",
    "            accs[name] = tf.reduce_mean(tf.cast(\n",
    "                tf.equal(tf.argmax(last_output, 1), tf.argmax(targets, 1)), tf.float32))\n",
    "        tf.summary.scalar(name, accs[name])\n",
    "\n",
    "\n",
    "        summary_op = tf.summary.merge_all()\n",
    "        saver = tf.train.Saver()\n",
    "        \n",
    "        sess = tf.Session(config=tf.ConfigProto(intra_op_parallelism_threads=8))\n",
    "        \n",
    "    return sess, graph, summary_op, train_step, dataprovider, saver, inputs, targets"
   ]
  },
  {
   "cell_type": "code",
   "execution_count": null,
   "metadata": {},
   "outputs": [
    {
     "name": "stdout",
     "output_type": "stream",
     "text": [
      "23300\n",
      "10000\n",
      "6000\n",
      "3000\n",
      "2000\n",
      "500\n",
      "100\n",
      "50\n",
      "10\n",
      "Starting iterations\n",
      "Epoch: 0\n",
      "Epoch: 1\n"
     ]
    }
   ],
   "source": [
    "with tf.variable_scope(\"model_t1\") as scope:\n",
    "    [train_sess, train_graph, train_summary, train_step, trainData, trainSaver, \n",
    "                                                                tinputs, ttargets] = mlp_graph('train')\n",
    "    \n",
    "#show_graph(train_graph)\n",
    "\n",
    "timestamp = datetime.datetime.now().strftime(\"%Y-%m-%d_%H-%M-%S\")\n",
    "writer = tf.summary.FileWriter(os.path.join('logs', 'dense_exp', timestamp, 'train'), graph=train_graph)\n",
    "\n",
    "with train_graph.as_default():\n",
    "\n",
    "    train_sess.run(tf.global_variables_initializer())\n",
    "    trainData.enable(train_sess)\n",
    "\n",
    "    max_iters = trainData.max_num_batches()\n",
    "\n",
    "    print('Starting iterations')\n",
    "    for epoch in range(30):\n",
    "\n",
    "        run_error = 0.\n",
    "        run_acc = 0.\n",
    "        print('Epoch: {}'.format(epoch))\n",
    "        for idx in range(max_iters):\n",
    "\n",
    "            [_, summary_results] = train_sess.run([train_step, train_summary])          \n",
    "            writer.add_summary(summary_results, epoch * max_iters + idx)\n",
    "\n",
    "    trainData.disable(train_sess)"
   ]
  },
  {
   "cell_type": "code",
   "execution_count": null,
   "metadata": {
    "collapsed": true
   },
   "outputs": [],
   "source": []
  }
 ],
 "metadata": {
  "celltoolbar": "Initialization Cell",
  "kernelspec": {
   "display_name": "Python 3",
   "language": "python",
   "name": "python3"
  },
  "language_info": {
   "codemirror_mode": {
    "name": "ipython",
    "version": 3
   },
   "file_extension": ".py",
   "mimetype": "text/x-python",
   "name": "python",
   "nbconvert_exporter": "python",
   "pygments_lexer": "ipython3",
   "version": "3.5.3"
  }
 },
 "nbformat": 4,
 "nbformat_minor": 2
}
