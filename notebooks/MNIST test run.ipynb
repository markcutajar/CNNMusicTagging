{
 "cells": [
  {
   "cell_type": "markdown",
   "metadata": {},
   "source": [
    "# MNIST for Cloud ML"
   ]
  },
  {
   "cell_type": "markdown",
   "metadata": {},
   "source": [
    "The aim of this notebook is to test whether Tensorflow is fully functional. Furthermore, it also acts as a short explanation common function used in tensorflow projects."
   ]
  },
  {
   "cell_type": "code",
   "execution_count": 38,
   "metadata": {},
   "outputs": [],
   "source": [
    "# Import packages\n",
    "\n",
    "from tensorflow.examples.tutorials.mnist import input_data\n",
    "import tensorflow as tf\n",
    "import numpy as np"
   ]
  },
  {
   "cell_type": "code",
   "execution_count": 39,
   "metadata": {},
   "outputs": [
    {
     "name": "stdout",
     "output_type": "stream",
     "text": [
      "Extracting MNIST_data/train-images-idx3-ubyte.gz\n",
      "Extracting MNIST_data/train-labels-idx1-ubyte.gz\n",
      "Extracting MNIST_data/t10k-images-idx3-ubyte.gz\n",
      "Extracting MNIST_data/t10k-labels-idx1-ubyte.gz\n"
     ]
    }
   ],
   "source": [
    "# Import dataset\n",
    "mnist = input_data.read_data_sets(\"MNIST_data/\", one_hot=True)"
   ]
  },
  {
   "cell_type": "code",
   "execution_count": 3,
   "metadata": {
    "collapsed": true
   },
   "outputs": [],
   "source": [
    "# Define placeholders and variables\n",
    "inputs = tf.placeholder(tf.float32, [None, 784])\n",
    "weights = tf.Variable(tf.zeros([784, 10]))\n",
    "biases = tf.Variable(tf.zeros([10]))"
   ]
  },
  {
   "cell_type": "code",
   "execution_count": 4,
   "metadata": {
    "collapsed": true
   },
   "outputs": [],
   "source": [
    "# Create graph\n",
    "y = tf.nn.softmax(tf.matmul(inputs, weights) + biases)"
   ]
  },
  {
   "cell_type": "code",
   "execution_count": 60,
   "metadata": {
    "collapsed": true
   },
   "outputs": [],
   "source": [
    "# Error and training\n",
    "f = tf.placeholder(tf.float32, [None, 10])\n",
    "cross_entropy = tf.reduce_mean(-tf.reduce_sum(f * tf.log(y), reduction_indices=[1]))\n",
    "train_step = tf.train.GradientDescentOptimizer(0.1).minimize(cross_entropy)"
   ]
  },
  {
   "cell_type": "code",
   "execution_count": 63,
   "metadata": {},
   "outputs": [
    {
     "name": "stdout",
     "output_type": "stream",
     "text": [
      "Epoch: 0\tError: 2.303\n",
      "Epoch: 3\tError: 2.054\n",
      "Epoch: 4\tError: 1.898\n",
      "Epoch: 6\tError: 1.782\n",
      "Epoch: 9\tError: 1.610\n",
      "Epoch: 14\tError: 1.295\n",
      "Epoch: 24\tError: 1.127\n",
      "Epoch: 46\tError: 0.819\n",
      "Epoch: 99\tError: 0.541\n",
      "Epoch: 249\tError: 0.325\n",
      "Epoch: 751\tError: 0.169\n"
     ]
    }
   ],
   "source": [
    "# Define session \n",
    "sess = tf.InteractiveSession()\n",
    "\n",
    "# Initialize variables - importantfor reruns\n",
    "tf.global_variables_initializer().run()\n",
    "\n",
    "# Matching variable for printing\n",
    "match_var = 2\n",
    "\n",
    "# Run for 1000 epochs\n",
    "for run_idx in range(1000):\n",
    "    batch_xs, batch_ys = mnist.train.next_batch(100)\n",
    "    _, error = sess.run([train_step, cross_entropy], feed_dict={x: batch_xs, f: batch_ys})\n",
    "    \n",
    "    if run_idx%match_var == 0:\n",
    "        print(\"Epoch: {}\\tError: {:0.3f}\".format(run_idx, error))\n",
    "        match_var = np.ceil(match_var**1.2)"
   ]
  },
  {
   "cell_type": "code",
   "execution_count": 62,
   "metadata": {},
   "outputs": [
    {
     "name": "stdout",
     "output_type": "stream",
     "text": [
      "0.9086\n"
     ]
    }
   ],
   "source": [
    "# Calculate final prediction accuracy\n",
    "correct_prediction = tf.equal(tf.argmax(y, 1), tf.argmax(f, 1))\n",
    "accuracy = tf.reduce_mean(tf.cast(correct_prediction, tf.float32))\n",
    "print(sess.run(accuracy, feed_dict={x: mnist.test.images, f: mnist.test.labels}))"
   ]
  },
  {
   "cell_type": "code",
   "execution_count": null,
   "metadata": {
    "collapsed": true
   },
   "outputs": [],
   "source": [
    ""
   ]
  }
 ],
 "metadata": {
  "anaconda-cloud": {},
  "kernelspec": {
   "display_name": "Python 3",
   "language": "python",
   "name": "python3"
  },
  "language_info": {
   "codemirror_mode": {
    "name": "ipython",
    "version": 3.0
   },
   "file_extension": ".py",
   "mimetype": "text/x-python",
   "name": "python",
   "nbconvert_exporter": "python",
   "pygments_lexer": "ipython3",
   "version": "3.5.3"
  }
 },
 "nbformat": 4,
 "nbformat_minor": 0
}