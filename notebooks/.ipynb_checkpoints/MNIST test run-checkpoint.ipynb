{
 "cells": [
  {
   "cell_type": "markdown",
   "metadata": {},
   "source": [
    "# MNIST test run"
   ]
  },
  {
   "cell_type": "markdown",
   "metadata": {},
   "source": [
    "The aim of this notebook is to test whether Tensorflow is fully functional. Furthermore, it also acts as a short explanation common function used in tensorflow projects."
   ]
  },
  {
   "cell_type": "code",
   "execution_count": 38,
   "metadata": {},
   "outputs": [],
   "source": [
    "# Import packages\n",
    "\n",
    "from tensorflow.examples.tutorials.mnist import input_data\n",
    "import tensorflow as tf\n",
    "import numpy as np"
   ]
  },
  {
   "cell_type": "code",
   "execution_count": 39,
   "metadata": {},
   "outputs": [
    {
     "name": "stdout",
     "output_type": "stream",
     "text": [
      "Extracting MNIST_data/train-images-idx3-ubyte.gz\n",
      "Extracting MNIST_data/train-labels-idx1-ubyte.gz\n",
      "Extracting MNIST_data/t10k-images-idx3-ubyte.gz\n",
      "Extracting MNIST_data/t10k-labels-idx1-ubyte.gz\n"
     ]
    }
   ],
   "source": [
    "# Import dataset\n",
    "mnist = input_data.read_data_sets(\"MNIST_data/\", one_hot=True)"
   ]
  },
  {
   "cell_type": "code",
   "execution_count": 3,
   "metadata": {
    "collapsed": true
   },
   "outputs": [],
   "source": [
    "# Define placeholders and variables\n",
    "inputs = tf.placeholder(tf.float32, [None, 784])\n",
    "weights = tf.Variable(tf.zeros([784, 10]))\n",
    "biases = tf.Variable(tf.zeros([10]))"
   ]
  },
  {
   "cell_type": "code",
   "execution_count": 4,
   "metadata": {
    "collapsed": true
   },
   "outputs": [],
   "source": [
    "# Create graph\n",
    "y = tf.nn.softmax(tf.matmul(inputs, weights) + biases)"
   ]
  },
  {
   "cell_type": "code",
   "execution_count": 60,
   "metadata": {
    "collapsed": true
   },
   "outputs": [],
   "source": [
    "# Error and training\n",
    "f = tf.placeholder(tf.float32, [None, 10])\n",
    "cross_entropy = tf.reduce_mean(-tf.reduce_sum(f * tf.log(y), reduction_indices=[1]))\n",
    "train_step = tf.train.GradientDescentOptimizer(0.1).minimize(cross_entropy)"
   ]
  },
  {
   "cell_type": "code",
   "execution_count": 61,
   "metadata": {},
   "outputs": [
    {
     "name": "stdout",
     "output_type": "stream",
     "text": [
      "Epoch: 0\tError: 2.303\n",
      "Epoch: 3\tError: 2.051\n",
      "Epoch: 4\tError: 1.982\n",
      "Epoch: 5\tError: 1.882\n",
      "Epoch: 6\tError: 1.743\n",
      "Epoch: 7\tError: 1.767\n",
      "Epoch: 8\tError: 1.716\n",
      "Epoch: 9\tError: 1.670\n",
      "Epoch: 11\tError: 1.473\n",
      "Epoch: 13\tError: 1.447\n",
      "Epoch: 15\tError: 1.368\n",
      "Epoch: 18\tError: 1.243\n",
      "Epoch: 21\tError: 1.190\n",
      "Epoch: 25\tError: 1.080\n",
      "Epoch: 30\tError: 1.107\n",
      "Epoch: 36\tError: 0.915\n",
      "Epoch: 44\tError: 0.847\n",
      "Epoch: 54\tError: 0.804\n",
      "Epoch: 66\tError: 0.722\n",
      "Epoch: 82\tError: 0.714\n",
      "Epoch: 103\tError: 0.531\n",
      "Epoch: 130\tError: 0.749\n",
      "Epoch: 166\tError: 0.374\n",
      "Epoch: 215\tError: 0.509\n",
      "Epoch: 282\tError: 0.454\n",
      "Epoch: 374\tError: 0.434\n",
      "Epoch: 503\tError: 0.312\n",
      "Epoch: 687\tError: 0.397\n",
      "Epoch: 953\tError: 0.412\n"
     ]
    }
   ],
   "source": [
    "# Define session \n",
    "sess = tf.InteractiveSession()\n",
    "\n",
    "# Initialize variables - importantfor reruns\n",
    "tf.global_variables_initializer().run()\n",
    "\n",
    "# Matching variable for printing\n",
    "match_var = 2\n",
    "\n",
    "# Run for 1000 epochs\n",
    "for run_idx in range(1000):\n",
    "    batch_xs, batch_ys = mnist.train.next_batch(100)\n",
    "    _, error = sess.run([train_step, cross_entropy], feed_dict={x: batch_xs, f: batch_ys})\n",
    "    \n",
    "    if run_idx%match_var == 0:\n",
    "        print(\"Epoch: {}\\tError: {:0.3f}\".format(run_idx, error))\n",
    "        match_var = np.ceil(match_var**1.05)\n",
    "    "
   ]
  },
  {
   "cell_type": "code",
   "execution_count": 62,
   "metadata": {},
   "outputs": [
    {
     "name": "stdout",
     "output_type": "stream",
     "text": [
      "0.9086\n"
     ]
    }
   ],
   "source": [
    "# Calculate final prediction accuracy\n",
    "correct_prediction = tf.equal(tf.argmax(y, 1), tf.argmax(f, 1))\n",
    "accuracy = tf.reduce_mean(tf.cast(correct_prediction, tf.float32))\n",
    "print(sess.run(accuracy, feed_dict={x: mnist.test.images, f: mnist.test.labels}))"
   ]
  },
  {
   "cell_type": "code",
   "execution_count": null,
   "metadata": {
    "collapsed": true
   },
   "outputs": [],
   "source": []
  }
 ],
 "metadata": {
  "anaconda-cloud": {},
  "kernelspec": {
   "display_name": "Python 3",
   "language": "python",
   "name": "python3"
  },
  "language_info": {
   "codemirror_mode": {
    "name": "ipython",
    "version": 3
   },
   "file_extension": ".py",
   "mimetype": "text/x-python",
   "name": "python",
   "nbconvert_exporter": "python",
   "pygments_lexer": "ipython3",
   "version": "3.5.3"
  }
 },
 "nbformat": 4,
 "nbformat_minor": 1
}
