{
 "cells": [
  {
   "cell_type": "markdown",
   "metadata": {},
   "source": [
    "# TFRecords Experiments"
   ]
  },
  {
   "cell_type": "code",
   "execution_count": null,
   "metadata": {},
   "outputs": [],
   "source": [
    "from pydst.dataproviders import DataProvider\n",
    "import tensorflow as tf\n",
    "\n",
    "dataBatcher = DataProvider(['../magnatagatune/train_rawdata.tfrecords'], '../magnatagatune/raw_metadata.json')\n",
    "init_op = tf.group(tf.global_variables_initializer(), tf.local_variables_initializer())\n",
    "features, tags = dataBatcher.raw_input_fn()\n",
    "\n",
    "with tf.Session() as sess:\n",
    "\tsess.run(init_op)\n",
    "\tcoord = tf.train.Coordinator()\n",
    "\tthreads = tf.train.start_queue_runners(coord=coord)\n",
    "\n",
    "\tfor  i in range(6):\n",
    "\t\tsongs, labels = sess.run([features, tags])\n",
    "\t\tprint(songs.shape)\n",
    "\t\tprint(tags.shape)\n",
    "\n",
    "\tcoord.request_stop()\n",
    "\tcoord.join(threads)"
   ]
  }
 ],
 "metadata": {
  "kernelspec": {
   "display_name": "Python 3",
   "language": "python",
   "name": "python3"
  },
  "language_info": {
   "codemirror_mode": {
    "name": "ipython",
    "version": 3.0
   },
   "file_extension": ".py",
   "mimetype": "text/x-python",
   "name": "python",
   "nbconvert_exporter": "python",
   "pygments_lexer": "ipython3",
   "version": "3.5.3"
  }
 },
 "nbformat": 4,
 "nbformat_minor": 0
}