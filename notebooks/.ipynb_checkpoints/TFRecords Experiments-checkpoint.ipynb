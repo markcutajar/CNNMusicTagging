{
 "cells": [
  {
   "cell_type": "markdown",
   "metadata": {},
   "source": [
    "# TFRecords Experiments"
   ]
  },
  {
   "cell_type": "markdown",
   "metadata": {},
   "source": [
    "Save records to file"
   ]
  },
  {
   "cell_type": "code",
   "execution_count": 29,
   "metadata": {},
   "outputs": [
    {
     "name": "stdout",
     "output_type": "stream",
     "text": [
      "<class 'numpy.int32'>\n"
     ]
    }
   ],
   "source": [
    "import numpy as np\n",
    "import tensorflow as tf\n",
    "\n",
    "data1 = list(range(0,100))\n",
    "data2 = list(range(10,110))\n",
    "data3 = list(range(20,120))\n",
    "\n",
    "data = np.asarray([data1, data2, data3])\n",
    "\n",
    "tags1 = [0,1,0,1]\n",
    "tags2 = [1,1,1,1]\n",
    "tags3 = [1,0,1,0]\n",
    "\n",
    "tags = np.asarray([tags1, tags2, tags3])\n",
    "\n",
    "print(type(data[0][0]))\n",
    "\n",
    "\n",
    "def _bytes_feature(value):\n",
    "    return tf.train.Feature(bytes_list=tf.train.BytesList(value=[value]))\n",
    "\n",
    "def _int64_feature(value):\n",
    "    return tf.train.Feature(int64_list=tf.train.Int64List(value=[value]))\n",
    "\n",
    "tfrecords_filename = 'test.tfrecords'\n",
    "\n",
    "writer = tf.python_io.TFRecordWriter(tfrecords_filename)\n",
    "\n",
    "for idx in range(len(data)):\n",
    "    \n",
    "    song = data[idx].tostring()\n",
    "    labels = tags[idx].tostring()\n",
    "    \n",
    "    samples = 100\n",
    "    sample_depth = 1\n",
    "    num_tags = 4\n",
    "    \n",
    "    record = tf.train.Example(features=tf.train.Features(\n",
    "        feature={\n",
    "            'samples': _int64_feature(samples),\n",
    "            'sample_depth': _int64_feature(sample_depth),\n",
    "            'num_tags': _int64_feature(num_tags),\n",
    "            'tags': _bytes_feature(labels),\n",
    "            'song': _bytes_feature(song)\n",
    "        }\n",
    "    ))\n",
    "    writer.write(record.SerializeToString())\n",
    "writer.close()"
   ]
  },
  {
   "cell_type": "code",
   "execution_count": null,
   "metadata": {
    "collapsed": true,
    "editable": false,
    "run_control": {
     "frozen": true
    }
   },
   "outputs": [],
   "source": [
    "data = []\n",
    "tags = []\n",
    "\n",
    "tfrecords_filename = '../magnatagatune/train_rawdata.tfrecords'\n",
    "\n",
    "record_iterator = tf.python_io.tf_record_iterator(path=tfrecords_filename)\n",
    "\n",
    "for string_record in record_iterator:\n",
    "    \n",
    "    record = tf.train.Example()\n",
    "    record.ParseFromString(string_record)\n",
    "    \n",
    "    samples = int(record.features.feature['num_samples'].int64_list.value[0])\n",
    "    num_tags = int(record.features.feature['num_tags'].int64_list.value[0])\n",
    "    sample_depth = int(record.features.feature['sample_depth'].int64_list.value[0])\n",
    "\n",
    "    song_string = (record.features.feature['song'].bytes_list.value[0])\n",
    "    tags_string = (record.features.feature['tags'].bytes_list.value[0])\n",
    "    \n",
    "    song1d = np.fromstring(song_string, dtype=np.int32)\n",
    "    tags1d = np.fromstring(tags_string, dtype=np.int32)\n",
    "    \n",
    "    song = song1d\n",
    "    tags = tags1d\n",
    "    \n",
    "    #print(song)\n",
    "    #print(tags)\n",
    "    print(samples)\n",
    "    print(sample_depth)\n",
    "    print(num_tags)"
   ]
  },
  {
   "cell_type": "code",
   "execution_count": 1,
   "metadata": {},
   "outputs": [
    {
     "name": "stdout",
     "output_type": "stream",
     "text": [
      "Using matplotlib backend: Qt5Agg\n"
     ]
    }
   ],
   "source": [
    "%matplotlib\n",
    "\n",
    "import tensorflow as tf\n",
    "\n",
    "root = '../magnatagatune/'\n",
    "tfrecords_filename = root + 'train_rawdata.tfrecords'\n",
    "\n",
    "def input_fn(filename_queue):\n",
    "    \n",
    "    reader = tf.TFRecordReader()\n",
    "    \n",
    "    _, serialized_example = reader.read_up_to(filename_queue, num_records=10)\n",
    "    \n",
    "    features = tf.parse_example(\n",
    "        serialized_example,\n",
    "        features={\n",
    "            'num_samples': tf.FixedLenFeature([], tf.int64),\n",
    "            'sample_depth': tf.FixedLenFeature([], tf.int64),\n",
    "            'num_tags': tf.FixedLenFeature([], tf.int64),\n",
    "            'tags': tf.FixedLenFeature([], tf.string),\n",
    "            'song': tf.FixedLenFeature([], tf.string)\n",
    "        }\n",
    "    )\n",
    "    \n",
    "    song = tf.decode_raw(features['song'], tf.int32)\n",
    "    tags = tf.decode_raw(features['tags'], tf.int32)\n",
    "    \n",
    "    num_samples = tf.cast(features['num_samples'], tf.int64)\n",
    "    samples_depth = tf.cast(features['sample_depth'], tf.int64)\n",
    "    num_tags = tf.cast(features['num_tags'], tf.int64)\n",
    "\n",
    "    print(song.shape)\n",
    "    return song, tags, num_samples, samples_depth, num_tags"
   ]
  },
  {
   "cell_type": "code",
   "execution_count": 4,
   "metadata": {},
   "outputs": [
    {
     "name": "stdout",
     "output_type": "stream",
     "text": [
      "(10, 465984)\n",
      "(10, 465984)\n",
      "(10, 465984)\n",
      "(10, 465984)\n",
      "(10, 465984)\n",
      "(10, 465984)\n",
      "(10, 465984)\n",
      "(10, 465984)\n",
      "(10, 465984)\n",
      "(10, 465984)\n",
      "(10, 465984)\n",
      "(10, 465984)\n",
      "(10, 465984)\n",
      "(10, 465984)\n",
      "(10, 465984)\n",
      "(10, 465984)\n",
      "(10, 465984)\n",
      "(10, 465984)\n",
      "(10, 465984)\n",
      "(10, 465984)\n"
     ]
    }
   ],
   "source": [
    "filename_queue = tf.train.string_input_producer(\n",
    "    [tfrecords_filename], num_epochs=10)\n",
    "\n",
    "song_tensor, tags_tensor, num_samples_tensor, samples_depth_tensor, num_tags_tensor = input_fn(filename_queue)\n",
    "\n",
    "init_op = tf.group(tf.global_variables_initializer(), tf.local_variables_initializer())\n",
    "\n",
    "\n",
    "with tf.Session() as sess:\n",
    "    \n",
    "    sess.run(init_op)\n",
    "    \n",
    "    coord = tf.train.Coordinator()\n",
    "    threads = tf.train.start_queue_runners(coord=coord)\n",
    "    \n",
    "    for  i in range(20):\n",
    "        \n",
    "        song, tags, num_samples, samples_depth, num_tags = sess.run(\n",
    "            [song_tensor, tags_tensor, num_samples_tensor, samples_depth_tensor, num_tags_tensor])\n",
    "        \n",
    "        print(song.shape)\n",
    "#         print(min(song))\n",
    "#         print(max(song))\n",
    "#         print(min(tags))\n",
    "#         print(max(tags))\n",
    "#         print(num_samples)\n",
    "#         print(samples_depth)\n",
    "#         print(num_tags)\n",
    "        \n",
    "    coord.request_stop()\n",
    "    coord.join(threads)\n",
    "    sess.close"
   ]
  },
  {
   "cell_type": "code",
   "execution_count": null,
   "metadata": {
    "collapsed": true
   },
   "outputs": [],
   "source": []
  }
 ],
 "metadata": {
  "kernelspec": {
   "display_name": "Python 3",
   "language": "python",
   "name": "python3"
  },
  "language_info": {
   "codemirror_mode": {
    "name": "ipython",
    "version": 3
   },
   "file_extension": ".py",
   "mimetype": "text/x-python",
   "name": "python",
   "nbconvert_exporter": "python",
   "pygments_lexer": "ipython3",
   "version": "3.5.3"
  }
 },
 "nbformat": 4,
 "nbformat_minor": 1
}
