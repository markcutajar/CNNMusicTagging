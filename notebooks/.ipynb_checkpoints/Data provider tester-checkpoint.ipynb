{
 "cells": [
  {
   "cell_type": "markdown",
   "metadata": {},
   "source": [
    "# Data provider unit testing\n",
    "\n",
    "The aim of this notebook is to create a mock dataset with random numbers and random targets and test the data provider to produce a queue of tensors."
   ]
  },
  {
   "cell_type": "code",
   "execution_count": 1,
   "metadata": {
    "init_cell": true
   },
   "outputs": [],
   "source": [
    "from pydst.rate_limiters import RateLimited \n",
    "from pydst.dataproviders import DataProvider\n",
    "import tensorflow as tf\n",
    "import numpy as np"
   ]
  },
  {
   "cell_type": "markdown",
   "metadata": {},
   "source": [
    "### Generating mock dataset"
   ]
  },
  {
   "cell_type": "code",
   "execution_count": null,
   "metadata": {
    "collapsed": true
   },
   "outputs": [],
   "source": [
    "# Generate data\n",
    "tmp = np.arange(0, 512)\n",
    "data = np.column_stack((tmp,tmp,tmp,tmp))\n",
    "\n",
    "# Generate targets\n",
    "targets=[]\n",
    "for num in [int(i) for i in tmp]:\n",
    "    tmp_tgt = [int(i) for i in list(np.binary_repr(num))]\n",
    "    if len(tmp_tgt) != 9:\n",
    "        remain = 9 - len(tmp_tgt)\n",
    "        zeros = [0]*remain\n",
    "        zeros.extend(tmp_tgt)\n",
    "        tmp_tgt = zeros\n",
    "    targets.append(tmp_tgt)\n",
    "targets = np.asarray(targets)\n",
    "tids = np.asarray(tmp)\n",
    "\n",
    "# Print sizes\n",
    "print('Data shape: ' + str(data.shape))\n",
    "print('Targets shape: ' + str(targets.shape))\n",
    "print('TIDs shape: ' + str(tids.shape))"
   ]
  },
  {
   "cell_type": "code",
   "execution_count": null,
   "metadata": {
    "collapsed": true
   },
   "outputs": [],
   "source": [
    "# Save data\n",
    "for idx, name in enumerate(tids):\n",
    "    filename = '../mockdataset/data1/train/' + str(name) + '.npy'\n",
    "    row = data[idx, :]\n",
    "    np.save(filename, row)\n",
    "    \n",
    "# Save metadata\n",
    "filename = '../mockdataset/data1/train_metadata.npy'\n",
    "metadata = {'targets': targets, 'tids': tids}\n",
    "np.save(filename, metadata)"
   ]
  },
  {
   "cell_type": "markdown",
   "metadata": {
    "collapsed": true
   },
   "source": [
    "### Testing the data provider"
   ]
  },
  {
   "cell_type": "code",
   "execution_count": 3,
   "metadata": {
    "scrolled": true
   },
   "outputs": [
    {
     "name": "stdout",
     "output_type": "stream",
     "text": [
      "[[ -4107.  -3620.  -2696. ...,   5319.   6507.   3750.]\n",
      " [  3986.   3401.   3281. ...,  -1098.   -690.   -222.]\n",
      " [  -256.   -548.   -695. ...,  -1807.  -1828.  -1844.]\n",
      " ..., \n",
      " [ -1230.  -4719.  -8908. ...,  13152.   8053.   5774.]\n",
      " [  9888.   6360.   1782. ...,   -938.  -5199.  -4040.]\n",
      " [  8650.   9211.   9963. ...,  14559.  14024.  11821.]]\n",
      "(10, 131072)\n"
     ]
    }
   ],
   "source": [
    "graph = tf.Graph()\n",
    "with tf.device('/cpu:0'):\n",
    "    trainData = DataProvider(graph=graph, which_set='train', batch_size=10, num_samples=131072, target_size=6, shape='flat')\n",
    "    data_batch, targets_batch = trainData.get_data()\n",
    "\n",
    "# >> DEFINE MODEL HERE    \n",
    "with graph.as_default():    \n",
    "    sess = tf.Session(config=tf.ConfigProto(intra_op_parallelism_threads=8))\n",
    "    sess.run(tf.global_variables_initializer())\n",
    "    trainData.enable(sess)\n",
    "    \n",
    "@RateLimited(1)\n",
    "def eval_tensor(sess):\n",
    "    [b,t] = sess.run([data_batch, targets_batch])\n",
    "    print(b)\n",
    "    print(b.shape)\n",
    "    \n",
    "for num in range(1):\n",
    "    eval_tensor(sess)\n",
    "trainData.disable(sess)"
   ]
  },
  {
   "cell_type": "code",
   "execution_count": 4,
   "metadata": {
    "scrolled": true
   },
   "outputs": [
    {
     "name": "stdout",
     "output_type": "stream",
     "text": [
      "[[ 13.4973011   15.41683674  15.29430103 ...,  12.77394581  14.40069103\n",
      "   12.64789295]\n",
      " [  9.85596371   8.53263187  11.15739727 ...,  10.82912159   9.78178787\n",
      "    7.80279541]\n",
      " [ 12.1565218   14.52921104  14.87992096 ...,  13.17940712  13.19956684\n",
      "    8.92556858]\n",
      " ..., \n",
      " [ 12.08232784  14.58085728  14.69558334 ...,  16.52716827  16.08066177\n",
      "   16.02777481]\n",
      " [ 11.90134525  10.70080662  12.5941     ...,  15.28661346  14.91227627\n",
      "   13.91606903]\n",
      " [ 12.78759384  14.82590389  14.48606968 ...,  15.69497108  15.64178467\n",
      "   14.28809261]]\n",
      "(10, 60000)\n"
     ]
    }
   ],
   "source": [
    "graph = tf.Graph()\n",
    "with tf.device('/cpu:0'):\n",
    "    trainData = DataProvider(graph=graph, which_set='train', batch_size=10, target_size=6, num_samples=1000, max_samples=2911, \n",
    "                             data_depth=40, root='../magnatagatune/dataset/fbank/', shape='flat')\n",
    "    data_batch, targets_batch = trainData.get_data()\n",
    "    \n",
    "# >> DEFINE MODEL HERE    \n",
    "with graph.as_default():    \n",
    "    sess = tf.Session(config=tf.ConfigProto(intra_op_parallelism_threads=8))\n",
    "    sess.run(tf.global_variables_initializer())\n",
    "    trainData.enable(sess)\n",
    "    \n",
    "@RateLimited(1)\n",
    "def eval_tensor(sess):\n",
    "    [b,t] = sess.run([data_batch, targets_batch])\n",
    "    print(b)\n",
    "    print(b.shape)\n",
    "    \n",
    "for num in range(1):\n",
    "    eval_tensor(sess)\n",
    "trainData.disable(sess)"
   ]
  },
  {
   "cell_type": "code",
   "execution_count": 6,
   "metadata": {
    "collapsed": true
   },
   "outputs": [],
   "source": []
  }
 ],
 "metadata": {
  "celltoolbar": "Initialization Cell",
  "kernelspec": {
   "display_name": "Python 3",
   "language": "python",
   "name": "python3"
  },
  "language_info": {
   "codemirror_mode": {
    "name": "ipython",
    "version": 3
   },
   "file_extension": ".py",
   "mimetype": "text/x-python",
   "name": "python",
   "nbconvert_exporter": "python",
   "pygments_lexer": "ipython3",
   "version": "3.5.3"
  }
 },
 "nbformat": 4,
 "nbformat_minor": 2
}
