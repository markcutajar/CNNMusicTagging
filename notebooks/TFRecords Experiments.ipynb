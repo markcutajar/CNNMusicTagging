{
 "cells": [
  {
   "cell_type": "markdown",
   "metadata": {},
   "source": [
    "# TFRecords Experiments"
   ]
  },
  {
   "cell_type": "code",
   "execution_count": 1,
   "metadata": {},
   "outputs": [
    {
     "name": "stdout",
     "output_type": "stream",
     "text": [
      "<class 'tensorflow.python.framework.ops.Tensor'>\n",
      "(576, 20, 809, 1)\n",
      "(576, 20, 809, 1)\n",
      "(576, 20, 809, 1)\n",
      "(576, 20, 809, 1)\n",
      "(576, 20, 809, 1)\n",
      "(576, 20, 809, 1)\n"
     ]
    }
   ],
   "source": [
    "from pydst.dataproviders import DataProvider\n",
    "import tensorflow as tf\n",
    "\n",
    "dataBatcher = DataProvider(filenames=['../magnatagatune/train_rawdata.tfrecords'], \n",
    "                           metadata_file='../magnatagatune/raw_metadata.json', \n",
    "                           selective_tags = '../magnatagatune/selective_tags.json',\n",
    "                           num_samples=465984,\n",
    "                           window_size=809)\n",
    "\n",
    "init_op = tf.group(tf.global_variables_initializer(), tf.local_variables_initializer())\n",
    "features, tags = dataBatcher.raw_input_fn()\n",
    "\n",
    "with tf.Session() as sess:\n",
    "    sess.run(init_op)\n",
    "    coord = tf.train.Coordinator()\n",
    "    threads = tf.train.start_queue_runners(coord=coord)\n",
    "\n",
    "    for  i in range(6):\n",
    "        songs, labels = sess.run([features, tags])\n",
    "        print(songs.shape)\n",
    "\n",
    "    coord.request_stop()\n",
    "    coord.join(threads)"
   ]
  },
  {
   "cell_type": "code",
   "execution_count": null,
   "metadata": {
    "collapsed": true
   },
   "outputs": [],
   "source": []
  },
  {
   "cell_type": "code",
   "execution_count": null,
   "metadata": {
    "collapsed": true
   },
   "outputs": [],
   "source": []
  }
 ],
 "metadata": {
  "kernelspec": {
   "display_name": "Python 3",
   "language": "python",
   "name": "python3"
  },
  "language_info": {
   "codemirror_mode": {
    "name": "ipython",
    "version": 3
   },
   "file_extension": ".py",
   "mimetype": "text/x-python",
   "name": "python",
   "nbconvert_exporter": "python",
   "pygments_lexer": "ipython3",
   "version": "3.5.3"
  }
 },
 "nbformat": 4,
 "nbformat_minor": 1
}
