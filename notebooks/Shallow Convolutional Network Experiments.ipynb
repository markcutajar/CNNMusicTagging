{
 "cells": [
  {
   "cell_type": "markdown",
   "metadata": {},
   "source": [
    "### Dense Networks Experiments\n",
    "\n",
    "This first notebook is to explore the effectiveness of a fully connected neural network to classify tags. The testing will be as follows:\n",
    "\n",
    "1. Test data which has been subsampled \n"
   ]
  },
  {
   "cell_type": "code",
   "execution_count": 1,
   "metadata": {
    "collapsed": true,
    "init_cell": true
   },
   "outputs": [],
   "source": [
    "import tensorflow as tf\n",
    "from pydst.rate_limiters import RateLimited \n",
    "from pydst.dataproviders import DataProvider\n",
    "from IPython.display import display, HTML\n",
    "import datetime\n",
    "import os\n",
    "import numpy as np"
   ]
  },
  {
   "cell_type": "code",
   "execution_count": 2,
   "metadata": {
    "code_folding": [
     0
    ],
    "collapsed": true,
    "init_cell": true
   },
   "outputs": [],
   "source": [
    "def show_graph(graph_def, frame_size=(900, 600)):\n",
    "    \"\"\"Visualize TensorFlow graph.\"\"\"\n",
    "    if hasattr(graph_def, 'as_graph_def'):\n",
    "        graph_def = graph_def.as_graph_def()\n",
    "    timestamp = datetime.datetime.now().strftime(\"%Y-%m-%d_%H-%M-%S\")\n",
    "    code = \"\"\"\n",
    "        <script>\n",
    "          function load() {{\n",
    "            document.getElementById(\"{id}\").pbtxt = {data};\n",
    "          }}\n",
    "        </script>\n",
    "        <link rel=\"import\" href=\"https://tensorboard.appspot.com/tf-graph-basic.build.html\" onload=load()>\n",
    "        <div style=\"height:{height}px\">\n",
    "          <tf-graph-basic id=\"{id}\"></tf-graph-basic>\n",
    "        </div>\n",
    "    \"\"\".format(height=frame_size[1], data=repr(str(graph_def)), id='graph'+timestamp)\n",
    "    iframe = \"\"\"\n",
    "        <iframe seamless style=\"width:{width}px;height:{height}px;border:0\" srcdoc=\"{src}\"></iframe>\n",
    "    \"\"\".format(width=frame_size[0], height=frame_size[1] + 20, src=code.replace('\"', '&quot;'))\n",
    "    display(HTML(iframe))"
   ]
  },
  {
   "cell_type": "code",
   "execution_count": 35,
   "metadata": {
    "code_folding": [],
    "collapsed": true,
    "init_cell": true
   },
   "outputs": [],
   "source": [
    "def conv_graph(which_set, rng=None):\n",
    "    \n",
    "    graph = tf.Graph()\n",
    "    outputs = {}\n",
    "    errors = {}\n",
    "    accs = {}\n",
    "    \n",
    "    with graph.as_default():\n",
    "\n",
    "        with tf.device('/cpu:0'):\n",
    "            \"\"\"trainData = DataProvider(graph=graph, which_set='train', batch_size=10, target_size=50, \n",
    "                                     num_samples=300, max_samples=2911, data_depth=40, \n",
    "                                     root='../magnatagatune/dataset/fbank/', shape='flat')\"\"\"\n",
    "            trainData = DataProvider(graph=graph, which_set='train', batch_size=10, target_size=50, \n",
    "                                     num_samples=100000, shape='image')\n",
    "            \n",
    "            data_batch, targets_batch = trainData.get_data()\n",
    "\n",
    "        \n",
    "        name = 'conv1'\n",
    "        outputs[name] = tf.layers.conv1d(data_batch, 4, 200, strides=50, activation=tf.nn.elu, \n",
    "                              kernel_regularizer=tf.layers.batch_normalization,\n",
    "                              name=name)\n",
    "        \n",
    "        name = 'conv2'\n",
    "        outputs[name] = tf.layers.conv1d(outputs['conv1'], 6, 100, strides=20, activation=tf.nn.elu, \n",
    "                              kernel_regularizer=tf.layers.batch_normalization,\n",
    "                              name=name)    \n",
    "        \n",
    "        name = 'conv3'\n",
    "        outputs[name] = tf.layers.conv1d(outputs['conv2'], 8, 10, strides=5, activation=tf.nn.elu, \n",
    "                              kernel_regularizer=tf.layers.batch_normalization,\n",
    "                              name=name) \n",
    "        \n",
    "        name = 'layer-1'\n",
    "        outputs[name] = tf.layers.dense(tf.reshape(outputs['conv3'], [int(outputs['conv3'].shape[0]), -1]), \n",
    "                                        200, activation=tf.nn.elu)\n",
    "        \n",
    "        name = 'layer-2'\n",
    "        outputs[name] = tf.layers.dense(outputs['layer-1'], \n",
    "                                        50, activation=tf.nn.elu)\n",
    "                                        \n",
    "        last_output = outputs['layer-2']\n",
    "        name = 'error-l2'\n",
    "        with tf.variable_scope(name):\n",
    "            errors[name] = tf.losses.sigmoid_cross_entropy(multi_class_labels=targets_batch, logits=last_output)\n",
    "        tf.summary.scalar(name, errors[name])\n",
    "        train_step = tf.train.AdadeltaOptimizer(learning_rate=0.01).minimize(errors[name])\n",
    "        \n",
    "        name = 'accuracy-l2'\n",
    "        with tf.variable_scope(name):\n",
    "            accs[name] = tf.reduce_mean(tf.cast(\n",
    "                tf.equal(tf.argmax(last_output, 1), tf.argmax(targets_batch, 1)), tf.float32))\n",
    "        tf.summary.scalar(name, accs[name])\n",
    "\n",
    "\n",
    "        summary_op = tf.summary.merge_all()\n",
    "        saver = tf.train.Saver()\n",
    "        \n",
    "        sess = tf.Session(config=tf.ConfigProto(intra_op_parallelism_threads=8))\n",
    "        \n",
    "    return sess, graph, summary_op, train_step, trainData, saver, data_batch, targets_batch"
   ]
  },
  {
   "cell_type": "code",
   "execution_count": 36,
   "metadata": {},
   "outputs": [
    {
     "name": "stdout",
     "output_type": "stream",
     "text": [
      "Starting iterations\n",
      "Epoch: 0\n",
      "Epoch: 1\n",
      "Epoch: 2\n",
      "Epoch: 3\n",
      "Epoch: 4\n",
      "Epoch: 5\n",
      "Epoch: 6\n",
      "Epoch: 7\n",
      "Epoch: 8\n",
      "Epoch: 9\n",
      "Epoch: 10\n",
      "Epoch: 11\n",
      "Epoch: 12\n",
      "Epoch: 13\n",
      "Epoch: 14\n",
      "Epoch: 15\n",
      "Epoch: 16\n",
      "Epoch: 17\n",
      "Epoch: 18\n",
      "Epoch: 19\n",
      "Epoch: 20\n",
      "Epoch: 21\n",
      "Epoch: 22\n",
      "Epoch: 23\n",
      "Epoch: 24\n",
      "Epoch: 25\n",
      "Epoch: 26\n",
      "Epoch: 27\n",
      "Epoch: 28\n",
      "Epoch: 29\n"
     ]
    }
   ],
   "source": [
    "if 'session' in locals() and session is not None:\n",
    "    print('Close interactive session')\n",
    "    session.close()\n",
    "\n",
    "\n",
    "with tf.variable_scope(\"model_t1\") as scope:\n",
    "    [train_sess, train_graph, train_summary, train_step, trainData, trainSaver, \n",
    "                                                                tinputs, ttargets] = conv_graph('train')\n",
    "    \n",
    "#show_graph(train_graph)\n",
    "\n",
    "timestamp = datetime.datetime.now().strftime(\"%Y-%m-%d_%H-%M-%S\")\n",
    "writer = tf.summary.FileWriter(os.path.join('logs', 'shallow_conv_exp', timestamp, 'train'), graph=train_graph)\n",
    "\n",
    "with train_graph.as_default():\n",
    "\n",
    "    train_sess.run(tf.global_variables_initializer())\n",
    "    trainData.enable(train_sess)\n",
    "\n",
    "    max_iters = trainData.max_num_batches()\n",
    "\n",
    "    print('Starting iterations')\n",
    "    for epoch in range(30):\n",
    "\n",
    "        run_error = 0.\n",
    "        run_acc = 0.\n",
    "        print('Epoch: {}'.format(epoch))\n",
    "        for idx in range(max_iters):\n",
    "\n",
    "            [_, summary_results] = train_sess.run([train_step, train_summary])          \n",
    "            writer.add_summary(summary_results, epoch * max_iters + idx)\n",
    "\n",
    "    trainData.disable(train_sess)"
   ]
  },
  {
   "cell_type": "code",
   "execution_count": null,
   "metadata": {
    "collapsed": true
   },
   "outputs": [],
   "source": []
  }
 ],
 "metadata": {
  "celltoolbar": "Initialization Cell",
  "kernelspec": {
   "display_name": "Python 3",
   "language": "python",
   "name": "python3"
  },
  "language_info": {
   "codemirror_mode": {
    "name": "ipython",
    "version": 3
   },
   "file_extension": ".py",
   "mimetype": "text/x-python",
   "name": "python",
   "nbconvert_exporter": "python",
   "pygments_lexer": "ipython3",
   "version": "3.5.3"
  }
 },
 "nbformat": 4,
 "nbformat_minor": 2
}
