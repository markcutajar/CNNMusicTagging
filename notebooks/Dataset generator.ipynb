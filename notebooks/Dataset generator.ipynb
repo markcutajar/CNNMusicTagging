{
 "cells": [
  {
   "cell_type": "code",
   "execution_count": 73,
   "metadata": {
    "scrolled": true
   },
   "outputs": [
    {
     "name": "stdout",
     "output_type": "stream",
     "text": [
      "Data shape: (512, 4)\n",
      "Targets shape: (512, 9)\n",
      "TIDs shape: (512,)\n"
     ]
    }
   ],
   "source": [
    "import numpy as np\n",
    "\n",
    "# Generate data\n",
    "tmp = np.arange(0, 512)\n",
    "data = np.column_stack((tmp,tmp,tmp,tmp))\n",
    "\n",
    "# Generate targets\n",
    "targets=[]\n",
    "for num in [int(i) for i in tmp]:\n",
    "    tmp_tgt = [int(i) for i in list(np.binary_repr(num))]\n",
    "    if len(tmp_tgt) != 9:\n",
    "        remain = 9 - len(tmp_tgt)\n",
    "        zeros = [0]*remain\n",
    "        zeros.extend(tmp_tgt)\n",
    "        tmp_tgt = zeros\n",
    "    targets.append(tmp_tgt)\n",
    "targets = np.asarray(targets)\n",
    "tids = np.asarray(tmp)\n",
    "\n",
    "# Print sizes\n",
    "print('Data shape: ' + str(data.shape))\n",
    "print('Targets shape: ' + str(targets.shape))\n",
    "print('TIDs shape: ' + str(tids.shape))\n",
    "\n"
   ]
  },
  {
   "cell_type": "code",
   "execution_count": null,
   "metadata": {
    "collapsed": true
   },
   "outputs": [],
   "source": [
    "# Save data\n",
    "for idx, name in enumerate(tids):\n",
    "    filename = '../mockdataset/data1/train/' + str(name) + '.npy'\n",
    "    row = data[idx, :]\n",
    "    np.save(filename, row)\n",
    "    \n",
    "# Save metadata\n",
    "filename = '../mockdataset/data1/train_metadata.npy'\n",
    "metadata = {'targets': targets, 'tids': tids}\n",
    "np.save(filename, metadata)"
   ]
  },
  {
   "cell_type": "code",
   "execution_count": null,
   "metadata": {
    "collapsed": true
   },
   "outputs": [],
   "source": []
  }
 ],
 "metadata": {
  "kernelspec": {
   "display_name": "Python 2",
   "language": "python",
   "name": "python2"
  },
  "language_info": {
   "codemirror_mode": {
    "name": "ipython",
    "version": 2
   },
   "file_extension": ".py",
   "mimetype": "text/x-python",
   "name": "python",
   "nbconvert_exporter": "python",
   "pygments_lexer": "ipython2",
   "version": "2.7.10"
  }
 },
 "nbformat": 4,
 "nbformat_minor": 2
}
