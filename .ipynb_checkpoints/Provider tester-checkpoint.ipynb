{
 "cells": [
  {
   "cell_type": "markdown",
   "metadata": {},
   "source": [
    "### Provider tester\n",
    "\n",
    "The aim of this notebook is to test the dataprovider and confirm correct functionality. "
   ]
  },
  {
   "cell_type": "code",
   "execution_count": 1,
   "metadata": {
    "collapsed": true
   },
   "outputs": [],
   "source": [
    "from pydst.rate_limiters import RateLimited \n",
    "from pydst.dataproviders import DataProvider\n",
    "import tensorflow as tf\n",
    "import numpy as np"
   ]
  },
  {
   "cell_type": "code",
   "execution_count": 2,
   "metadata": {},
   "outputs": [],
   "source": [
    "with tf.device('/cpu:0'):\n",
    "    trainData = DataProvider(which_set='train', batch_size=10, down_sample=1, target_size=6)\n",
    "    data_batch, targets_batch = trainData.get_data()"
   ]
  },
  {
   "cell_type": "code",
   "execution_count": 3,
   "metadata": {},
   "outputs": [],
   "source": [
    "sess = tf.Session(config=tf.ConfigProto(intra_op_parallelism_threads=8))\n",
    "sess.run(tf.global_variables_initializer())"
   ]
  },
  {
   "cell_type": "code",
   "execution_count": 4,
   "metadata": {},
   "outputs": [
    {
     "data": {
      "text/plain": [
       "[<Thread(Thread-4, started daemon 140444885313280)>]"
      ]
     },
     "execution_count": 4,
     "metadata": {},
     "output_type": "execute_result"
    }
   ],
   "source": [
    "trainData.enable(sess)"
   ]
  },
  {
   "cell_type": "code",
   "execution_count": 7,
   "metadata": {
    "scrolled": true
   },
   "outputs": [
    {
     "name": "stdout",
     "output_type": "stream",
     "text": [
      "[[ 174.  174.  174.  174.]\n",
      " [ 362.  362.  362.  362.]\n",
      " [ 142.  142.  142.  142.]\n",
      " [   8.    8.    8.    8.]\n",
      " [  98.   98.   98.   98.]\n",
      " [ 111.  111.  111.  111.]\n",
      " [  36.   36.   36.   36.]\n",
      " [  47.   47.   47.   47.]\n",
      " [ 253.  253.  253.  253.]\n",
      " [ 409.  409.  409.  409.]]\n",
      "[[ 436.  436.  436.  436.]\n",
      " [ 420.  420.  420.  420.]\n",
      " [  14.   14.   14.   14.]\n",
      " [ 484.  484.  484.  484.]\n",
      " [ 263.  263.  263.  263.]\n",
      " [ 392.  392.  392.  392.]\n",
      " [ 250.  250.  250.  250.]\n",
      " [ 149.  149.  149.  149.]\n",
      " [ 113.  113.  113.  113.]\n",
      " [ 452.  452.  452.  452.]]\n",
      "[[ 345.  345.  345.  345.]\n",
      " [ 139.  139.  139.  139.]\n",
      " [ 466.  466.  466.  466.]\n",
      " [ 493.  493.  493.  493.]\n",
      " [ 161.  161.  161.  161.]\n",
      " [  29.   29.   29.   29.]\n",
      " [  85.   85.   85.   85.]\n",
      " [ 190.  190.  190.  190.]\n",
      " [ 317.  317.  317.  317.]\n",
      " [  37.   37.   37.   37.]]\n",
      "[[ 262.  262.  262.  262.]\n",
      " [ 383.  383.  383.  383.]\n",
      " [ 248.  248.  248.  248.]\n",
      " [ 217.  217.  217.  217.]\n",
      " [ 375.  375.  375.  375.]\n",
      " [ 374.  374.  374.  374.]\n",
      " [ 376.  376.  376.  376.]\n",
      " [  60.   60.   60.   60.]\n",
      " [ 464.  464.  464.  464.]\n",
      " [  53.   53.   53.   53.]]\n",
      "[[ 257.  257.  257.  257.]\n",
      " [ 114.  114.  114.  114.]\n",
      " [ 315.  315.  315.  315.]\n",
      " [ 177.  177.  177.  177.]\n",
      " [ 320.  320.  320.  320.]\n",
      " [ 128.  128.  128.  128.]\n",
      " [ 189.  189.  189.  189.]\n",
      " [ 284.  284.  284.  284.]\n",
      " [ 219.  219.  219.  219.]\n",
      " [ 297.  297.  297.  297.]]\n"
     ]
    }
   ],
   "source": [
    "@RateLimited(1)\n",
    "def eval_tensor(sess):\n",
    "    [b,t] = sess.run([data_batch, targets_batch])\n",
    "    print(b)\n",
    "    \n",
    "for num in range(5):\n",
    "    eval_tensor(sess)"
   ]
  },
  {
   "cell_type": "code",
   "execution_count": 8,
   "metadata": {
    "collapsed": true
   },
   "outputs": [],
   "source": [
    "trainData.disable(sess)"
   ]
  },
  {
   "cell_type": "code",
   "execution_count": null,
   "metadata": {
    "collapsed": true
   },
   "outputs": [],
   "source": []
  }
 ],
 "metadata": {
  "kernelspec": {
   "display_name": "Python 2",
   "language": "python",
   "name": "python2"
  },
  "language_info": {
   "codemirror_mode": {
    "name": "ipython",
    "version": 2
   },
   "file_extension": ".py",
   "mimetype": "text/x-python",
   "name": "python",
   "nbconvert_exporter": "python",
   "pygments_lexer": "ipython2",
   "version": "2.7.12"
  }
 },
 "nbformat": 4,
 "nbformat_minor": 2
}
