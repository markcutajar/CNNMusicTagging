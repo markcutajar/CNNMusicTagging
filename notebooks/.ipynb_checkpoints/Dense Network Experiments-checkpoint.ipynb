{
 "cells": [
  {
   "cell_type": "code",
   "execution_count": 1,
   "metadata": {
    "collapsed": true,
    "init_cell": true
   },
   "outputs": [],
   "source": [
    "import tensorflow as tf\n",
    "from pydst.rate_limiters import RateLimited \n",
    "from pydst.dataproviders import DataProvider\n",
    "from IPython.display import display, HTML\n",
    "import datetime\n",
    "import os\n",
    "import numpy as np"
   ]
  },
  {
   "cell_type": "code",
   "execution_count": 2,
   "metadata": {
    "code_folding": [
     0
    ],
    "collapsed": true,
    "init_cell": true
   },
   "outputs": [],
   "source": [
    "def show_graph(graph_def, frame_size=(900, 600)):\n",
    "    \"\"\"Visualize TensorFlow graph.\"\"\"\n",
    "    if hasattr(graph_def, 'as_graph_def'):\n",
    "        graph_def = graph_def.as_graph_def()\n",
    "    timestamp = datetime.datetime.now().strftime(\"%Y-%m-%d_%H-%M-%S\")\n",
    "    code = \"\"\"\n",
    "        <script>\n",
    "          function load() {{\n",
    "            document.getElementById(\"{id}\").pbtxt = {data};\n",
    "          }}\n",
    "        </script>\n",
    "        <link rel=\"import\" href=\"https://tensorboard.appspot.com/tf-graph-basic.build.html\" onload=load()>\n",
    "        <div style=\"height:{height}px\">\n",
    "          <tf-graph-basic id=\"{id}\"></tf-graph-basic>\n",
    "        </div>\n",
    "    \"\"\".format(height=frame_size[1], data=repr(str(graph_def)), id='graph'+timestamp)\n",
    "    iframe = \"\"\"\n",
    "        <iframe seamless style=\"width:{width}px;height:{height}px;border:0\" srcdoc=\"{src}\"></iframe>\n",
    "    \"\"\".format(width=frame_size[0], height=frame_size[1] + 20, src=code.replace('\"', '&quot;'))\n",
    "    display(HTML(iframe))"
   ]
  },
  {
   "cell_type": "code",
   "execution_count": 3,
   "metadata": {
    "code_folding": [],
    "init_cell": true
   },
   "outputs": [],
   "source": [
    "def dense(name, inputs, units, fn):\n",
    "    with tf.variable_scope(name):\n",
    "        print(inputs.shape[1])\n",
    "        output = tf.layers.dense(inputs=inputs, units=units, name=name, activation=fn, \n",
    "                                 kernel_initializer=None) #tf.truncated_normal_initializer())\n",
    "        return output\n",
    "#(stddev=(2./(inputs.shape[1]+units))**0.5)\n",
    "\n",
    "def mlp_graph(which_set, rng=None):\n",
    "    \n",
    "    graph = tf.Graph()\n",
    "    outputs = {}\n",
    "    errors = {}\n",
    "    accs = {}\n",
    "    \n",
    "    with graph.as_default():\n",
    "\n",
    "        with tf.device('/cpu:0'):\n",
    "            dataprovider = DataProvider(graph=graph, which_set=which_set, batch_size=10, \n",
    "                                        down_sample=20, target_size=4,rng=rng)\n",
    "                                 \n",
    "            inputs, targets = dataprovider.get_data()\n",
    "            \n",
    "        with tf.device('/cpu:0'):\n",
    "            name = 'layer-1'\n",
    "            outputs[name] = dense(name, inputs, 10000, tf.nn.relu)                                            \n",
    "\n",
    "            name = 'layer-2'\n",
    "            outputs[name] = dense(name, outputs['layer-1'], 6000, tf.nn.relu)\n",
    "\n",
    "            name = 'layer-3'\n",
    "            outputs[name] = dense(name, outputs['layer-2'], 3000, tf.nn.relu)\n",
    "\n",
    "            name = 'layer-4'\n",
    "            outputs[name] = dense(name, outputs['layer-3'], 2000, tf.nn.relu)\n",
    "\n",
    "            name = 'layer-5'\n",
    "            outputs[name] = dense(name, outputs['layer-4'], 500, tf.nn.relu)\n",
    "\n",
    "            name = 'layer-6'\n",
    "            outputs[name] = dense(name, outputs['layer-5'], 100, tf.nn.relu)\n",
    "\n",
    "            name = 'layer-7'\n",
    "            outputs[name] = dense(name, outputs['layer-6'], 50, tf.nn.relu)\n",
    "\n",
    "            name = 'layer-8'\n",
    "            outputs[name] = dense(name, outputs['layer-7'], 10, tf.nn.relu)\n",
    "\n",
    "            name = 'layer-9'\n",
    "            outputs[name] = dense(name, outputs['layer-8'], 4, tf.nn.relu)\n",
    "\n",
    "        last_output = outputs['layer-9']\n",
    "        name = 'error-l9'\n",
    "        with tf.variable_scope(name):\n",
    "            errors[name] = tf.losses.sigmoid_cross_entropy(multi_class_labels=targets, logits=last_output)\n",
    "        tf.summary.scalar(name, errors[name])\n",
    "        train_step = tf.train.AdamOptimizer().minimize(errors[name])\n",
    "        \n",
    "        name = 'accuracy-l9'\n",
    "        with tf.variable_scope(name):\n",
    "            accs[name] = tf.reduce_mean(tf.cast(\n",
    "                tf.equal(tf.argmax(last_output, 1), tf.argmax(targets, 1)), tf.float32))\n",
    "        tf.summary.scalar(name, accs[name])\n",
    "\n",
    "\n",
    "        summary_op = tf.summary.merge_all()\n",
    "        saver = tf.train.Saver()\n",
    "        \n",
    "        sess = tf.Session(config=tf.ConfigProto(intra_op_parallelism_threads=8))\n",
    "        \n",
    "    return sess, graph, summary_op, train_step, dataprovider, saver, inputs, targets"
   ]
  },
  {
   "cell_type": "code",
   "execution_count": 4,
   "metadata": {},
   "outputs": [
    {
     "name": "stdout",
     "output_type": "stream",
     "text": [
      "23300\n",
      "10000\n",
      "6000\n",
      "3000\n",
      "2000\n",
      "500\n",
      "100\n",
      "50\n",
      "10\n"
     ]
    },
    {
     "ename": "InvalidArgumentError",
     "evalue": "Cannot assign a device to node 'layer-9/layer-9/bias/Adam_1': Could not satisfy explicit device specification '/device:CPU:1' because no devices matching that specification are registered in this process; available devices: /job:localhost/replica:0/task:0/cpu:0, /job:localhost/replica:0/task:0/gpu:0\nColocation Debug Info:\nColocation group had the following types and devices: \nVariableV2: GPU CPU \nConst: GPU CPU \nAssign: GPU CPU \nIdentity: GPU CPU \nApplyAdam: GPU CPU \n\t [[Node: layer-9/layer-9/bias/Adam_1 = VariableV2[_class=[\"loc:@layer-9/layer-9/bias\"], container=\"\", dtype=DT_FLOAT, shape=[4], shared_name=\"\", _device=\"/device:CPU:1\"]()]]\n\nCaused by op 'layer-9/layer-9/bias/Adam_1', defined at:\n  File \"C:\\Users\\Mark\\Anaconda3\\envs\\dst\\lib\\runpy.py\", line 193, in _run_module_as_main\n    \"__main__\", mod_spec)\n  File \"C:\\Users\\Mark\\Anaconda3\\envs\\dst\\lib\\runpy.py\", line 85, in _run_code\n    exec(code, run_globals)\n  File \"C:\\Users\\Mark\\Anaconda3\\envs\\dst\\lib\\site-packages\\ipykernel_launcher.py\", line 16, in <module>\n    app.launch_new_instance()\n  File \"C:\\Users\\Mark\\Anaconda3\\envs\\dst\\lib\\site-packages\\traitlets\\config\\application.py\", line 658, in launch_instance\n    app.start()\n  File \"C:\\Users\\Mark\\Anaconda3\\envs\\dst\\lib\\site-packages\\ipykernel\\kernelapp.py\", line 477, in start\n    ioloop.IOLoop.instance().start()\n  File \"C:\\Users\\Mark\\Anaconda3\\envs\\dst\\lib\\site-packages\\zmq\\eventloop\\ioloop.py\", line 177, in start\n    super(ZMQIOLoop, self).start()\n  File \"C:\\Users\\Mark\\Anaconda3\\envs\\dst\\lib\\site-packages\\tornado\\ioloop.py\", line 888, in start\n    handler_func(fd_obj, events)\n  File \"C:\\Users\\Mark\\Anaconda3\\envs\\dst\\lib\\site-packages\\tornado\\stack_context.py\", line 277, in null_wrapper\n    return fn(*args, **kwargs)\n  File \"C:\\Users\\Mark\\Anaconda3\\envs\\dst\\lib\\site-packages\\zmq\\eventloop\\zmqstream.py\", line 440, in _handle_events\n    self._handle_recv()\n  File \"C:\\Users\\Mark\\Anaconda3\\envs\\dst\\lib\\site-packages\\zmq\\eventloop\\zmqstream.py\", line 472, in _handle_recv\n    self._run_callback(callback, msg)\n  File \"C:\\Users\\Mark\\Anaconda3\\envs\\dst\\lib\\site-packages\\zmq\\eventloop\\zmqstream.py\", line 414, in _run_callback\n    callback(*args, **kwargs)\n  File \"C:\\Users\\Mark\\Anaconda3\\envs\\dst\\lib\\site-packages\\tornado\\stack_context.py\", line 277, in null_wrapper\n    return fn(*args, **kwargs)\n  File \"C:\\Users\\Mark\\Anaconda3\\envs\\dst\\lib\\site-packages\\ipykernel\\kernelbase.py\", line 283, in dispatcher\n    return self.dispatch_shell(stream, msg)\n  File \"C:\\Users\\Mark\\Anaconda3\\envs\\dst\\lib\\site-packages\\ipykernel\\kernelbase.py\", line 235, in dispatch_shell\n    handler(stream, idents, msg)\n  File \"C:\\Users\\Mark\\Anaconda3\\envs\\dst\\lib\\site-packages\\ipykernel\\kernelbase.py\", line 399, in execute_request\n    user_expressions, allow_stdin)\n  File \"C:\\Users\\Mark\\Anaconda3\\envs\\dst\\lib\\site-packages\\ipykernel\\ipkernel.py\", line 196, in do_execute\n    res = shell.run_cell(code, store_history=store_history, silent=silent)\n  File \"C:\\Users\\Mark\\Anaconda3\\envs\\dst\\lib\\site-packages\\ipykernel\\zmqshell.py\", line 533, in run_cell\n    return super(ZMQInteractiveShell, self).run_cell(*args, **kwargs)\n  File \"C:\\Users\\Mark\\Anaconda3\\envs\\dst\\lib\\site-packages\\IPython\\core\\interactiveshell.py\", line 2698, in run_cell\n    interactivity=interactivity, compiler=compiler, result=result)\n  File \"C:\\Users\\Mark\\Anaconda3\\envs\\dst\\lib\\site-packages\\IPython\\core\\interactiveshell.py\", line 2802, in run_ast_nodes\n    if self.run_code(code, result):\n  File \"C:\\Users\\Mark\\Anaconda3\\envs\\dst\\lib\\site-packages\\IPython\\core\\interactiveshell.py\", line 2862, in run_code\n    exec(code_obj, self.user_global_ns, self.user_ns)\n  File \"<ipython-input-4-a3f25a45fefe>\", line 3, in <module>\n    tinputs, ttargets] = mlp_graph('train')\n  File \"<ipython-input-3-0a788170d83f>\", line 57, in mlp_graph\n    train_step = tf.train.AdamOptimizer().minimize(errors[name])\n  File \"C:\\Users\\Mark\\Anaconda3\\envs\\dst\\lib\\site-packages\\tensorflow\\python\\training\\optimizer.py\", line 325, in minimize\n    name=name)\n  File \"C:\\Users\\Mark\\Anaconda3\\envs\\dst\\lib\\site-packages\\tensorflow\\python\\training\\optimizer.py\", line 446, in apply_gradients\n    self._create_slots([_get_variable_for(v) for v in var_list])\n  File \"C:\\Users\\Mark\\Anaconda3\\envs\\dst\\lib\\site-packages\\tensorflow\\python\\training\\adam.py\", line 123, in _create_slots\n    self._zeros_slot(v, \"v\", self._name)\n  File \"C:\\Users\\Mark\\Anaconda3\\envs\\dst\\lib\\site-packages\\tensorflow\\python\\training\\optimizer.py\", line 766, in _zeros_slot\n    named_slots[_var_key(var)] = slot_creator.create_zeros_slot(var, op_name)\n  File \"C:\\Users\\Mark\\Anaconda3\\envs\\dst\\lib\\site-packages\\tensorflow\\python\\training\\slot_creator.py\", line 174, in create_zeros_slot\n    colocate_with_primary=colocate_with_primary)\n  File \"C:\\Users\\Mark\\Anaconda3\\envs\\dst\\lib\\site-packages\\tensorflow\\python\\training\\slot_creator.py\", line 146, in create_slot_with_initializer\n    dtype)\n  File \"C:\\Users\\Mark\\Anaconda3\\envs\\dst\\lib\\site-packages\\tensorflow\\python\\training\\slot_creator.py\", line 66, in _create_slot_var\n    validate_shape=validate_shape)\n  File \"C:\\Users\\Mark\\Anaconda3\\envs\\dst\\lib\\site-packages\\tensorflow\\python\\ops\\variable_scope.py\", line 1049, in get_variable\n    use_resource=use_resource, custom_getter=custom_getter)\n  File \"C:\\Users\\Mark\\Anaconda3\\envs\\dst\\lib\\site-packages\\tensorflow\\python\\ops\\variable_scope.py\", line 948, in get_variable\n    use_resource=use_resource, custom_getter=custom_getter)\n  File \"C:\\Users\\Mark\\Anaconda3\\envs\\dst\\lib\\site-packages\\tensorflow\\python\\ops\\variable_scope.py\", line 356, in get_variable\n    validate_shape=validate_shape, use_resource=use_resource)\n  File \"C:\\Users\\Mark\\Anaconda3\\envs\\dst\\lib\\site-packages\\tensorflow\\python\\ops\\variable_scope.py\", line 341, in _true_getter\n    use_resource=use_resource)\n  File \"C:\\Users\\Mark\\Anaconda3\\envs\\dst\\lib\\site-packages\\tensorflow\\python\\ops\\variable_scope.py\", line 714, in _get_single_variable\n    validate_shape=validate_shape)\n  File \"C:\\Users\\Mark\\Anaconda3\\envs\\dst\\lib\\site-packages\\tensorflow\\python\\ops\\variables.py\", line 197, in __init__\n    expected_shape=expected_shape)\n  File \"C:\\Users\\Mark\\Anaconda3\\envs\\dst\\lib\\site-packages\\tensorflow\\python\\ops\\variables.py\", line 281, in _init_from_args\n    name=name)\n  File \"C:\\Users\\Mark\\Anaconda3\\envs\\dst\\lib\\site-packages\\tensorflow\\python\\ops\\state_ops.py\", line 128, in variable_op_v2\n    shared_name=shared_name)\n  File \"C:\\Users\\Mark\\Anaconda3\\envs\\dst\\lib\\site-packages\\tensorflow\\python\\ops\\gen_state_ops.py\", line 708, in _variable_v2\n    name=name)\n  File \"C:\\Users\\Mark\\Anaconda3\\envs\\dst\\lib\\site-packages\\tensorflow\\python\\framework\\op_def_library.py\", line 768, in apply_op\n    op_def=op_def)\n  File \"C:\\Users\\Mark\\Anaconda3\\envs\\dst\\lib\\site-packages\\tensorflow\\python\\framework\\ops.py\", line 2336, in create_op\n    original_op=self._default_original_op, op_def=op_def)\n  File \"C:\\Users\\Mark\\Anaconda3\\envs\\dst\\lib\\site-packages\\tensorflow\\python\\framework\\ops.py\", line 1228, in __init__\n    self._traceback = _extract_stack()\n\nInvalidArgumentError (see above for traceback): Cannot assign a device to node 'layer-9/layer-9/bias/Adam_1': Could not satisfy explicit device specification '/device:CPU:1' because no devices matching that specification are registered in this process; available devices: /job:localhost/replica:0/task:0/cpu:0, /job:localhost/replica:0/task:0/gpu:0\nColocation Debug Info:\nColocation group had the following types and devices: \nVariableV2: GPU CPU \nConst: GPU CPU \nAssign: GPU CPU \nIdentity: GPU CPU \nApplyAdam: GPU CPU \n\t [[Node: layer-9/layer-9/bias/Adam_1 = VariableV2[_class=[\"loc:@layer-9/layer-9/bias\"], container=\"\", dtype=DT_FLOAT, shape=[4], shared_name=\"\", _device=\"/device:CPU:1\"]()]]\n",
     "output_type": "error",
     "traceback": [
      "\u001b[1;31m---------------------------------------------------------------------------\u001b[0m",
      "\u001b[1;31mInvalidArgumentError\u001b[0m                      Traceback (most recent call last)",
      "\u001b[1;32m~\\Anaconda3\\envs\\dst\\lib\\site-packages\\tensorflow\\python\\client\\session.py\u001b[0m in \u001b[0;36m_do_call\u001b[1;34m(self, fn, *args)\u001b[0m\n\u001b[0;32m   1038\u001b[0m     \u001b[1;32mtry\u001b[0m\u001b[1;33m:\u001b[0m\u001b[1;33m\u001b[0m\u001b[0m\n\u001b[1;32m-> 1039\u001b[1;33m       \u001b[1;32mreturn\u001b[0m \u001b[0mfn\u001b[0m\u001b[1;33m(\u001b[0m\u001b[1;33m*\u001b[0m\u001b[0margs\u001b[0m\u001b[1;33m)\u001b[0m\u001b[1;33m\u001b[0m\u001b[0m\n\u001b[0m\u001b[0;32m   1040\u001b[0m     \u001b[1;32mexcept\u001b[0m \u001b[0merrors\u001b[0m\u001b[1;33m.\u001b[0m\u001b[0mOpError\u001b[0m \u001b[1;32mas\u001b[0m \u001b[0me\u001b[0m\u001b[1;33m:\u001b[0m\u001b[1;33m\u001b[0m\u001b[0m\n",
      "\u001b[1;32m~\\Anaconda3\\envs\\dst\\lib\\site-packages\\tensorflow\\python\\client\\session.py\u001b[0m in \u001b[0;36m_run_fn\u001b[1;34m(session, feed_dict, fetch_list, target_list, options, run_metadata)\u001b[0m\n\u001b[0;32m   1016\u001b[0m       \u001b[1;31m# Ensure any changes to the graph are reflected in the runtime.\u001b[0m\u001b[1;33m\u001b[0m\u001b[1;33m\u001b[0m\u001b[0m\n\u001b[1;32m-> 1017\u001b[1;33m       \u001b[0mself\u001b[0m\u001b[1;33m.\u001b[0m\u001b[0m_extend_graph\u001b[0m\u001b[1;33m(\u001b[0m\u001b[1;33m)\u001b[0m\u001b[1;33m\u001b[0m\u001b[0m\n\u001b[0m\u001b[0;32m   1018\u001b[0m       \u001b[1;32mwith\u001b[0m \u001b[0merrors\u001b[0m\u001b[1;33m.\u001b[0m\u001b[0mraise_exception_on_not_ok_status\u001b[0m\u001b[1;33m(\u001b[0m\u001b[1;33m)\u001b[0m \u001b[1;32mas\u001b[0m \u001b[0mstatus\u001b[0m\u001b[1;33m:\u001b[0m\u001b[1;33m\u001b[0m\u001b[0m\n",
      "\u001b[1;32m~\\Anaconda3\\envs\\dst\\lib\\site-packages\\tensorflow\\python\\client\\session.py\u001b[0m in \u001b[0;36m_extend_graph\u001b[1;34m(self)\u001b[0m\n\u001b[0;32m   1065\u001b[0m           tf_session.TF_ExtendGraph(\n\u001b[1;32m-> 1066\u001b[1;33m               self._session, graph_def.SerializeToString(), status)\n\u001b[0m\u001b[0;32m   1067\u001b[0m         \u001b[0mself\u001b[0m\u001b[1;33m.\u001b[0m\u001b[0m_opened\u001b[0m \u001b[1;33m=\u001b[0m \u001b[1;32mTrue\u001b[0m\u001b[1;33m\u001b[0m\u001b[0m\n",
      "\u001b[1;32m~\\Anaconda3\\envs\\dst\\lib\\contextlib.py\u001b[0m in \u001b[0;36m__exit__\u001b[1;34m(self, type, value, traceback)\u001b[0m\n\u001b[0;32m     65\u001b[0m             \u001b[1;32mtry\u001b[0m\u001b[1;33m:\u001b[0m\u001b[1;33m\u001b[0m\u001b[0m\n\u001b[1;32m---> 66\u001b[1;33m                 \u001b[0mnext\u001b[0m\u001b[1;33m(\u001b[0m\u001b[0mself\u001b[0m\u001b[1;33m.\u001b[0m\u001b[0mgen\u001b[0m\u001b[1;33m)\u001b[0m\u001b[1;33m\u001b[0m\u001b[0m\n\u001b[0m\u001b[0;32m     67\u001b[0m             \u001b[1;32mexcept\u001b[0m \u001b[0mStopIteration\u001b[0m\u001b[1;33m:\u001b[0m\u001b[1;33m\u001b[0m\u001b[0m\n",
      "\u001b[1;32m~\\Anaconda3\\envs\\dst\\lib\\site-packages\\tensorflow\\python\\framework\\errors_impl.py\u001b[0m in \u001b[0;36mraise_exception_on_not_ok_status\u001b[1;34m()\u001b[0m\n\u001b[0;32m    465\u001b[0m           \u001b[0mcompat\u001b[0m\u001b[1;33m.\u001b[0m\u001b[0mas_text\u001b[0m\u001b[1;33m(\u001b[0m\u001b[0mpywrap_tensorflow\u001b[0m\u001b[1;33m.\u001b[0m\u001b[0mTF_Message\u001b[0m\u001b[1;33m(\u001b[0m\u001b[0mstatus\u001b[0m\u001b[1;33m)\u001b[0m\u001b[1;33m)\u001b[0m\u001b[1;33m,\u001b[0m\u001b[1;33m\u001b[0m\u001b[0m\n\u001b[1;32m--> 466\u001b[1;33m           pywrap_tensorflow.TF_GetCode(status))\n\u001b[0m\u001b[0;32m    467\u001b[0m   \u001b[1;32mfinally\u001b[0m\u001b[1;33m:\u001b[0m\u001b[1;33m\u001b[0m\u001b[0m\n",
      "\u001b[1;31mInvalidArgumentError\u001b[0m: Cannot assign a device to node 'layer-9/layer-9/bias/Adam_1': Could not satisfy explicit device specification '/device:CPU:1' because no devices matching that specification are registered in this process; available devices: /job:localhost/replica:0/task:0/cpu:0, /job:localhost/replica:0/task:0/gpu:0\nColocation Debug Info:\nColocation group had the following types and devices: \nVariableV2: GPU CPU \nConst: GPU CPU \nAssign: GPU CPU \nIdentity: GPU CPU \nApplyAdam: GPU CPU \n\t [[Node: layer-9/layer-9/bias/Adam_1 = VariableV2[_class=[\"loc:@layer-9/layer-9/bias\"], container=\"\", dtype=DT_FLOAT, shape=[4], shared_name=\"\", _device=\"/device:CPU:1\"]()]]",
      "\nDuring handling of the above exception, another exception occurred:\n",
      "\u001b[1;31mInvalidArgumentError\u001b[0m                      Traceback (most recent call last)",
      "\u001b[1;32m<ipython-input-4-a3f25a45fefe>\u001b[0m in \u001b[0;36m<module>\u001b[1;34m()\u001b[0m\n\u001b[0;32m     10\u001b[0m \u001b[1;32mwith\u001b[0m \u001b[0mtrain_graph\u001b[0m\u001b[1;33m.\u001b[0m\u001b[0mas_default\u001b[0m\u001b[1;33m(\u001b[0m\u001b[1;33m)\u001b[0m\u001b[1;33m:\u001b[0m\u001b[1;33m\u001b[0m\u001b[0m\n\u001b[0;32m     11\u001b[0m \u001b[1;33m\u001b[0m\u001b[0m\n\u001b[1;32m---> 12\u001b[1;33m     \u001b[0mtrain_sess\u001b[0m\u001b[1;33m.\u001b[0m\u001b[0mrun\u001b[0m\u001b[1;33m(\u001b[0m\u001b[0mtf\u001b[0m\u001b[1;33m.\u001b[0m\u001b[0mglobal_variables_initializer\u001b[0m\u001b[1;33m(\u001b[0m\u001b[1;33m)\u001b[0m\u001b[1;33m)\u001b[0m\u001b[1;33m\u001b[0m\u001b[0m\n\u001b[0m\u001b[0;32m     13\u001b[0m     \u001b[0mtrainData\u001b[0m\u001b[1;33m.\u001b[0m\u001b[0menable\u001b[0m\u001b[1;33m(\u001b[0m\u001b[0mtrain_sess\u001b[0m\u001b[1;33m)\u001b[0m\u001b[1;33m\u001b[0m\u001b[0m\n\u001b[0;32m     14\u001b[0m \u001b[1;33m\u001b[0m\u001b[0m\n",
      "\u001b[1;32m~\\Anaconda3\\envs\\dst\\lib\\site-packages\\tensorflow\\python\\client\\session.py\u001b[0m in \u001b[0;36mrun\u001b[1;34m(self, fetches, feed_dict, options, run_metadata)\u001b[0m\n\u001b[0;32m    776\u001b[0m     \u001b[1;32mtry\u001b[0m\u001b[1;33m:\u001b[0m\u001b[1;33m\u001b[0m\u001b[0m\n\u001b[0;32m    777\u001b[0m       result = self._run(None, fetches, feed_dict, options_ptr,\n\u001b[1;32m--> 778\u001b[1;33m                          run_metadata_ptr)\n\u001b[0m\u001b[0;32m    779\u001b[0m       \u001b[1;32mif\u001b[0m \u001b[0mrun_metadata\u001b[0m\u001b[1;33m:\u001b[0m\u001b[1;33m\u001b[0m\u001b[0m\n\u001b[0;32m    780\u001b[0m         \u001b[0mproto_data\u001b[0m \u001b[1;33m=\u001b[0m \u001b[0mtf_session\u001b[0m\u001b[1;33m.\u001b[0m\u001b[0mTF_GetBuffer\u001b[0m\u001b[1;33m(\u001b[0m\u001b[0mrun_metadata_ptr\u001b[0m\u001b[1;33m)\u001b[0m\u001b[1;33m\u001b[0m\u001b[0m\n",
      "\u001b[1;32m~\\Anaconda3\\envs\\dst\\lib\\site-packages\\tensorflow\\python\\client\\session.py\u001b[0m in \u001b[0;36m_run\u001b[1;34m(self, handle, fetches, feed_dict, options, run_metadata)\u001b[0m\n\u001b[0;32m    980\u001b[0m     \u001b[1;32mif\u001b[0m \u001b[0mfinal_fetches\u001b[0m \u001b[1;32mor\u001b[0m \u001b[0mfinal_targets\u001b[0m\u001b[1;33m:\u001b[0m\u001b[1;33m\u001b[0m\u001b[0m\n\u001b[0;32m    981\u001b[0m       results = self._do_run(handle, final_targets, final_fetches,\n\u001b[1;32m--> 982\u001b[1;33m                              feed_dict_string, options, run_metadata)\n\u001b[0m\u001b[0;32m    983\u001b[0m     \u001b[1;32melse\u001b[0m\u001b[1;33m:\u001b[0m\u001b[1;33m\u001b[0m\u001b[0m\n\u001b[0;32m    984\u001b[0m       \u001b[0mresults\u001b[0m \u001b[1;33m=\u001b[0m \u001b[1;33m[\u001b[0m\u001b[1;33m]\u001b[0m\u001b[1;33m\u001b[0m\u001b[0m\n",
      "\u001b[1;32m~\\Anaconda3\\envs\\dst\\lib\\site-packages\\tensorflow\\python\\client\\session.py\u001b[0m in \u001b[0;36m_do_run\u001b[1;34m(self, handle, target_list, fetch_list, feed_dict, options, run_metadata)\u001b[0m\n\u001b[0;32m   1030\u001b[0m     \u001b[1;32mif\u001b[0m \u001b[0mhandle\u001b[0m \u001b[1;32mis\u001b[0m \u001b[1;32mNone\u001b[0m\u001b[1;33m:\u001b[0m\u001b[1;33m\u001b[0m\u001b[0m\n\u001b[0;32m   1031\u001b[0m       return self._do_call(_run_fn, self._session, feed_dict, fetch_list,\n\u001b[1;32m-> 1032\u001b[1;33m                            target_list, options, run_metadata)\n\u001b[0m\u001b[0;32m   1033\u001b[0m     \u001b[1;32melse\u001b[0m\u001b[1;33m:\u001b[0m\u001b[1;33m\u001b[0m\u001b[0m\n\u001b[0;32m   1034\u001b[0m       return self._do_call(_prun_fn, self._session, handle, feed_dict,\n",
      "\u001b[1;32m~\\Anaconda3\\envs\\dst\\lib\\site-packages\\tensorflow\\python\\client\\session.py\u001b[0m in \u001b[0;36m_do_call\u001b[1;34m(self, fn, *args)\u001b[0m\n\u001b[0;32m   1050\u001b[0m         \u001b[1;32mexcept\u001b[0m \u001b[0mKeyError\u001b[0m\u001b[1;33m:\u001b[0m\u001b[1;33m\u001b[0m\u001b[0m\n\u001b[0;32m   1051\u001b[0m           \u001b[1;32mpass\u001b[0m\u001b[1;33m\u001b[0m\u001b[0m\n\u001b[1;32m-> 1052\u001b[1;33m       \u001b[1;32mraise\u001b[0m \u001b[0mtype\u001b[0m\u001b[1;33m(\u001b[0m\u001b[0me\u001b[0m\u001b[1;33m)\u001b[0m\u001b[1;33m(\u001b[0m\u001b[0mnode_def\u001b[0m\u001b[1;33m,\u001b[0m \u001b[0mop\u001b[0m\u001b[1;33m,\u001b[0m \u001b[0mmessage\u001b[0m\u001b[1;33m)\u001b[0m\u001b[1;33m\u001b[0m\u001b[0m\n\u001b[0m\u001b[0;32m   1053\u001b[0m \u001b[1;33m\u001b[0m\u001b[0m\n\u001b[0;32m   1054\u001b[0m   \u001b[1;32mdef\u001b[0m \u001b[0m_extend_graph\u001b[0m\u001b[1;33m(\u001b[0m\u001b[0mself\u001b[0m\u001b[1;33m)\u001b[0m\u001b[1;33m:\u001b[0m\u001b[1;33m\u001b[0m\u001b[0m\n",
      "\u001b[1;31mInvalidArgumentError\u001b[0m: Cannot assign a device to node 'layer-9/layer-9/bias/Adam_1': Could not satisfy explicit device specification '/device:CPU:1' because no devices matching that specification are registered in this process; available devices: /job:localhost/replica:0/task:0/cpu:0, /job:localhost/replica:0/task:0/gpu:0\nColocation Debug Info:\nColocation group had the following types and devices: \nVariableV2: GPU CPU \nConst: GPU CPU \nAssign: GPU CPU \nIdentity: GPU CPU \nApplyAdam: GPU CPU \n\t [[Node: layer-9/layer-9/bias/Adam_1 = VariableV2[_class=[\"loc:@layer-9/layer-9/bias\"], container=\"\", dtype=DT_FLOAT, shape=[4], shared_name=\"\", _device=\"/device:CPU:1\"]()]]\n\nCaused by op 'layer-9/layer-9/bias/Adam_1', defined at:\n  File \"C:\\Users\\Mark\\Anaconda3\\envs\\dst\\lib\\runpy.py\", line 193, in _run_module_as_main\n    \"__main__\", mod_spec)\n  File \"C:\\Users\\Mark\\Anaconda3\\envs\\dst\\lib\\runpy.py\", line 85, in _run_code\n    exec(code, run_globals)\n  File \"C:\\Users\\Mark\\Anaconda3\\envs\\dst\\lib\\site-packages\\ipykernel_launcher.py\", line 16, in <module>\n    app.launch_new_instance()\n  File \"C:\\Users\\Mark\\Anaconda3\\envs\\dst\\lib\\site-packages\\traitlets\\config\\application.py\", line 658, in launch_instance\n    app.start()\n  File \"C:\\Users\\Mark\\Anaconda3\\envs\\dst\\lib\\site-packages\\ipykernel\\kernelapp.py\", line 477, in start\n    ioloop.IOLoop.instance().start()\n  File \"C:\\Users\\Mark\\Anaconda3\\envs\\dst\\lib\\site-packages\\zmq\\eventloop\\ioloop.py\", line 177, in start\n    super(ZMQIOLoop, self).start()\n  File \"C:\\Users\\Mark\\Anaconda3\\envs\\dst\\lib\\site-packages\\tornado\\ioloop.py\", line 888, in start\n    handler_func(fd_obj, events)\n  File \"C:\\Users\\Mark\\Anaconda3\\envs\\dst\\lib\\site-packages\\tornado\\stack_context.py\", line 277, in null_wrapper\n    return fn(*args, **kwargs)\n  File \"C:\\Users\\Mark\\Anaconda3\\envs\\dst\\lib\\site-packages\\zmq\\eventloop\\zmqstream.py\", line 440, in _handle_events\n    self._handle_recv()\n  File \"C:\\Users\\Mark\\Anaconda3\\envs\\dst\\lib\\site-packages\\zmq\\eventloop\\zmqstream.py\", line 472, in _handle_recv\n    self._run_callback(callback, msg)\n  File \"C:\\Users\\Mark\\Anaconda3\\envs\\dst\\lib\\site-packages\\zmq\\eventloop\\zmqstream.py\", line 414, in _run_callback\n    callback(*args, **kwargs)\n  File \"C:\\Users\\Mark\\Anaconda3\\envs\\dst\\lib\\site-packages\\tornado\\stack_context.py\", line 277, in null_wrapper\n    return fn(*args, **kwargs)\n  File \"C:\\Users\\Mark\\Anaconda3\\envs\\dst\\lib\\site-packages\\ipykernel\\kernelbase.py\", line 283, in dispatcher\n    return self.dispatch_shell(stream, msg)\n  File \"C:\\Users\\Mark\\Anaconda3\\envs\\dst\\lib\\site-packages\\ipykernel\\kernelbase.py\", line 235, in dispatch_shell\n    handler(stream, idents, msg)\n  File \"C:\\Users\\Mark\\Anaconda3\\envs\\dst\\lib\\site-packages\\ipykernel\\kernelbase.py\", line 399, in execute_request\n    user_expressions, allow_stdin)\n  File \"C:\\Users\\Mark\\Anaconda3\\envs\\dst\\lib\\site-packages\\ipykernel\\ipkernel.py\", line 196, in do_execute\n    res = shell.run_cell(code, store_history=store_history, silent=silent)\n  File \"C:\\Users\\Mark\\Anaconda3\\envs\\dst\\lib\\site-packages\\ipykernel\\zmqshell.py\", line 533, in run_cell\n    return super(ZMQInteractiveShell, self).run_cell(*args, **kwargs)\n  File \"C:\\Users\\Mark\\Anaconda3\\envs\\dst\\lib\\site-packages\\IPython\\core\\interactiveshell.py\", line 2698, in run_cell\n    interactivity=interactivity, compiler=compiler, result=result)\n  File \"C:\\Users\\Mark\\Anaconda3\\envs\\dst\\lib\\site-packages\\IPython\\core\\interactiveshell.py\", line 2802, in run_ast_nodes\n    if self.run_code(code, result):\n  File \"C:\\Users\\Mark\\Anaconda3\\envs\\dst\\lib\\site-packages\\IPython\\core\\interactiveshell.py\", line 2862, in run_code\n    exec(code_obj, self.user_global_ns, self.user_ns)\n  File \"<ipython-input-4-a3f25a45fefe>\", line 3, in <module>\n    tinputs, ttargets] = mlp_graph('train')\n  File \"<ipython-input-3-0a788170d83f>\", line 57, in mlp_graph\n    train_step = tf.train.AdamOptimizer().minimize(errors[name])\n  File \"C:\\Users\\Mark\\Anaconda3\\envs\\dst\\lib\\site-packages\\tensorflow\\python\\training\\optimizer.py\", line 325, in minimize\n    name=name)\n  File \"C:\\Users\\Mark\\Anaconda3\\envs\\dst\\lib\\site-packages\\tensorflow\\python\\training\\optimizer.py\", line 446, in apply_gradients\n    self._create_slots([_get_variable_for(v) for v in var_list])\n  File \"C:\\Users\\Mark\\Anaconda3\\envs\\dst\\lib\\site-packages\\tensorflow\\python\\training\\adam.py\", line 123, in _create_slots\n    self._zeros_slot(v, \"v\", self._name)\n  File \"C:\\Users\\Mark\\Anaconda3\\envs\\dst\\lib\\site-packages\\tensorflow\\python\\training\\optimizer.py\", line 766, in _zeros_slot\n    named_slots[_var_key(var)] = slot_creator.create_zeros_slot(var, op_name)\n  File \"C:\\Users\\Mark\\Anaconda3\\envs\\dst\\lib\\site-packages\\tensorflow\\python\\training\\slot_creator.py\", line 174, in create_zeros_slot\n    colocate_with_primary=colocate_with_primary)\n  File \"C:\\Users\\Mark\\Anaconda3\\envs\\dst\\lib\\site-packages\\tensorflow\\python\\training\\slot_creator.py\", line 146, in create_slot_with_initializer\n    dtype)\n  File \"C:\\Users\\Mark\\Anaconda3\\envs\\dst\\lib\\site-packages\\tensorflow\\python\\training\\slot_creator.py\", line 66, in _create_slot_var\n    validate_shape=validate_shape)\n  File \"C:\\Users\\Mark\\Anaconda3\\envs\\dst\\lib\\site-packages\\tensorflow\\python\\ops\\variable_scope.py\", line 1049, in get_variable\n    use_resource=use_resource, custom_getter=custom_getter)\n  File \"C:\\Users\\Mark\\Anaconda3\\envs\\dst\\lib\\site-packages\\tensorflow\\python\\ops\\variable_scope.py\", line 948, in get_variable\n    use_resource=use_resource, custom_getter=custom_getter)\n  File \"C:\\Users\\Mark\\Anaconda3\\envs\\dst\\lib\\site-packages\\tensorflow\\python\\ops\\variable_scope.py\", line 356, in get_variable\n    validate_shape=validate_shape, use_resource=use_resource)\n  File \"C:\\Users\\Mark\\Anaconda3\\envs\\dst\\lib\\site-packages\\tensorflow\\python\\ops\\variable_scope.py\", line 341, in _true_getter\n    use_resource=use_resource)\n  File \"C:\\Users\\Mark\\Anaconda3\\envs\\dst\\lib\\site-packages\\tensorflow\\python\\ops\\variable_scope.py\", line 714, in _get_single_variable\n    validate_shape=validate_shape)\n  File \"C:\\Users\\Mark\\Anaconda3\\envs\\dst\\lib\\site-packages\\tensorflow\\python\\ops\\variables.py\", line 197, in __init__\n    expected_shape=expected_shape)\n  File \"C:\\Users\\Mark\\Anaconda3\\envs\\dst\\lib\\site-packages\\tensorflow\\python\\ops\\variables.py\", line 281, in _init_from_args\n    name=name)\n  File \"C:\\Users\\Mark\\Anaconda3\\envs\\dst\\lib\\site-packages\\tensorflow\\python\\ops\\state_ops.py\", line 128, in variable_op_v2\n    shared_name=shared_name)\n  File \"C:\\Users\\Mark\\Anaconda3\\envs\\dst\\lib\\site-packages\\tensorflow\\python\\ops\\gen_state_ops.py\", line 708, in _variable_v2\n    name=name)\n  File \"C:\\Users\\Mark\\Anaconda3\\envs\\dst\\lib\\site-packages\\tensorflow\\python\\framework\\op_def_library.py\", line 768, in apply_op\n    op_def=op_def)\n  File \"C:\\Users\\Mark\\Anaconda3\\envs\\dst\\lib\\site-packages\\tensorflow\\python\\framework\\ops.py\", line 2336, in create_op\n    original_op=self._default_original_op, op_def=op_def)\n  File \"C:\\Users\\Mark\\Anaconda3\\envs\\dst\\lib\\site-packages\\tensorflow\\python\\framework\\ops.py\", line 1228, in __init__\n    self._traceback = _extract_stack()\n\nInvalidArgumentError (see above for traceback): Cannot assign a device to node 'layer-9/layer-9/bias/Adam_1': Could not satisfy explicit device specification '/device:CPU:1' because no devices matching that specification are registered in this process; available devices: /job:localhost/replica:0/task:0/cpu:0, /job:localhost/replica:0/task:0/gpu:0\nColocation Debug Info:\nColocation group had the following types and devices: \nVariableV2: GPU CPU \nConst: GPU CPU \nAssign: GPU CPU \nIdentity: GPU CPU \nApplyAdam: GPU CPU \n\t [[Node: layer-9/layer-9/bias/Adam_1 = VariableV2[_class=[\"loc:@layer-9/layer-9/bias\"], container=\"\", dtype=DT_FLOAT, shape=[4], shared_name=\"\", _device=\"/device:CPU:1\"]()]]\n"
     ]
    }
   ],
   "source": [
    "with tf.variable_scope(\"model_t1\") as scope:\n",
    "    [train_sess, train_graph, train_summary, train_step, trainData, trainSaver, \n",
    "                                                                tinputs, ttargets] = mlp_graph('train')\n",
    "    \n",
    "#show_graph(train_graph)\n",
    "\n",
    "timestamp = datetime.datetime.now().strftime(\"%Y-%m-%d_%H-%M-%S\")\n",
    "writer = tf.summary.FileWriter(os.path.join('logs', 'dense_exp', timestamp, 'train'), graph=train_graph)\n",
    "\n",
    "with train_graph.as_default():\n",
    "\n",
    "    train_sess.run(tf.global_variables_initializer())\n",
    "    trainData.enable(train_sess)\n",
    "\n",
    "    max_iters = trainData.max_num_batches()\n",
    "\n",
    "    print('Starting iterations')\n",
    "    for epoch in range(30):\n",
    "\n",
    "        run_error = 0.\n",
    "        run_acc = 0.\n",
    "        print('Epoch: {}'.format(epoch))\n",
    "        for idx in range(max_iters):\n",
    "\n",
    "            [_, summary_results] = train_sess.run([train_step, train_summary])          \n",
    "            writer.add_summary(summary_results, epoch * max_iters + idx)\n",
    "\n",
    "    trainData.disable(train_sess)"
   ]
  },
  {
   "cell_type": "code",
   "execution_count": null,
   "metadata": {
    "collapsed": true
   },
   "outputs": [],
   "source": []
  }
 ],
 "metadata": {
  "celltoolbar": "Initialization Cell",
  "kernelspec": {
   "display_name": "Python 3",
   "language": "python",
   "name": "python3"
  },
  "language_info": {
   "codemirror_mode": {
    "name": "ipython",
    "version": 3
   },
   "file_extension": ".py",
   "mimetype": "text/x-python",
   "name": "python",
   "nbconvert_exporter": "python",
   "pygments_lexer": "ipython3",
   "version": "3.5.3"
  }
 },
 "nbformat": 4,
 "nbformat_minor": 2
}
